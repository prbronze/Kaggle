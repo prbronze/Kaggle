{
 "cells": [
  {
   "cell_type": "markdown",
   "metadata": {},
   "source": [
    "# These are the ongoing task so we keep track of it:\n",
    "    - Join in a single dataframe the audio length distributions\n",
    "    - Look for patterns in possible features\n",
    "        - length?\n",
    "        - mean/median word lenght?\n",
    "        - punctuation density?\n",
    "        "
   ]
  },
  {
   "cell_type": "code",
   "execution_count": 1,
   "metadata": {
    "ExecuteTime": {
     "end_time": "2020-01-23T23:43:11.178199Z",
     "start_time": "2020-01-23T23:43:10.350148Z"
    }
   },
   "outputs": [],
   "source": [
    "import pandas as pd\n",
    "\n",
    "import seaborn as sns\n",
    "import matplotlib.pyplot as plt\n",
    "import matplotlib\n",
    "\n",
    "#Once nobody should be compeled to strain their eyes trying to to understand graphs\n",
    "matplotlib.rc('xtick', labelsize=15)\n",
    "matplotlib.rc('ytick', labelsize=15)\n"
   ]
  },
  {
   "cell_type": "code",
   "execution_count": 37,
   "metadata": {
    "ExecuteTime": {
     "end_time": "2020-01-23T23:50:50.139412Z",
     "start_time": "2020-01-23T23:50:50.134832Z"
    }
   },
   "outputs": [
    {
     "data": {
      "text/plain": [
       "Index(['toxic', 'severe_toxic', 'obscene', 'threat', 'insult',\n",
       "       'identity_hate'],\n",
       "      dtype='object')"
      ]
     },
     "execution_count": 37,
     "metadata": {},
     "output_type": "execute_result"
    }
   ],
   "source": []
  },
  {
   "cell_type": "code",
   "execution_count": 108,
   "metadata": {
    "ExecuteTime": {
     "end_time": "2020-01-24T00:09:53.999472Z",
     "start_time": "2020-01-24T00:09:52.524917Z"
    },
    "scrolled": true
   },
   "outputs": [],
   "source": [
    "treino = pd.read_csv('train.csv',index_col='id')\n",
    "teste = pd.read_csv('test.csv',index_col='id')\n",
    "\n",
    "Xtrain = treino[['comment_text']]\n",
    "ytrain = treino[['toxic', 'severe_toxic', 'obscene', 'threat', 'insult',\n",
    "       'identity_hate']]\n",
    "\n",
    "Xtest = teste[['comment_text']]\n",
    "labels = ytrain.columns.to_list()"
   ]
  },
  {
   "cell_type": "code",
   "execution_count": 43,
   "metadata": {
    "ExecuteTime": {
     "end_time": "2020-01-23T23:51:24.924688Z",
     "start_time": "2020-01-23T23:51:24.921683Z"
    }
   },
   "outputs": [
    {
     "data": {
      "text/plain": [
       "['toxic', 'severe_toxic', 'obscene', 'threat', 'insult', 'identity_hate']"
      ]
     },
     "execution_count": 43,
     "metadata": {},
     "output_type": "execute_result"
    }
   ],
   "source": []
  },
  {
   "cell_type": "code",
   "execution_count": 45,
   "metadata": {
    "ExecuteTime": {
     "end_time": "2020-01-23T23:52:20.231149Z",
     "start_time": "2020-01-23T23:52:20.217515Z"
    }
   },
   "outputs": [
    {
     "data": {
      "text/html": [
       "<div>\n",
       "<style scoped>\n",
       "    .dataframe tbody tr th:only-of-type {\n",
       "        vertical-align: middle;\n",
       "    }\n",
       "\n",
       "    .dataframe tbody tr th {\n",
       "        vertical-align: top;\n",
       "    }\n",
       "\n",
       "    .dataframe thead th {\n",
       "        text-align: right;\n",
       "    }\n",
       "</style>\n",
       "<table border=\"1\" class=\"dataframe\">\n",
       "  <thead>\n",
       "    <tr style=\"text-align: right;\">\n",
       "      <th></th>\n",
       "      <th>comment_text</th>\n",
       "      <th>toxic</th>\n",
       "      <th>severe_toxic</th>\n",
       "      <th>obscene</th>\n",
       "      <th>threat</th>\n",
       "      <th>insult</th>\n",
       "      <th>identity_hate</th>\n",
       "    </tr>\n",
       "    <tr>\n",
       "      <th>id</th>\n",
       "      <th></th>\n",
       "      <th></th>\n",
       "      <th></th>\n",
       "      <th></th>\n",
       "      <th></th>\n",
       "      <th></th>\n",
       "      <th></th>\n",
       "    </tr>\n",
       "  </thead>\n",
       "  <tbody>\n",
       "    <tr>\n",
       "      <th>54b7494e1cca072a</th>\n",
       "      <td>I had a go at this. I added a banner shell to ...</td>\n",
       "      <td>0</td>\n",
       "      <td>0</td>\n",
       "      <td>0</td>\n",
       "      <td>0</td>\n",
       "      <td>0</td>\n",
       "      <td>0</td>\n",
       "    </tr>\n",
       "    <tr>\n",
       "      <th>3f5f7eac12fd519a</th>\n",
       "      <td>\", 24 November 2011 (UTC)\\n\\nMy apology if you...</td>\n",
       "      <td>0</td>\n",
       "      <td>0</td>\n",
       "      <td>0</td>\n",
       "      <td>0</td>\n",
       "      <td>0</td>\n",
       "      <td>0</td>\n",
       "    </tr>\n",
       "    <tr>\n",
       "      <th>660239cdbc31a20f</th>\n",
       "      <td>What if CISPA bill became DNSchanger virus, Go...</td>\n",
       "      <td>0</td>\n",
       "      <td>0</td>\n",
       "      <td>0</td>\n",
       "      <td>0</td>\n",
       "      <td>0</td>\n",
       "      <td>0</td>\n",
       "    </tr>\n",
       "    <tr>\n",
       "      <th>0c03a73f401671eb</th>\n",
       "      <td>I can verify that this is the same guy who was...</td>\n",
       "      <td>0</td>\n",
       "      <td>0</td>\n",
       "      <td>0</td>\n",
       "      <td>0</td>\n",
       "      <td>0</td>\n",
       "      <td>0</td>\n",
       "    </tr>\n",
       "  </tbody>\n",
       "</table>\n",
       "</div>"
      ],
      "text/plain": [
       "                                                       comment_text  toxic  \\\n",
       "id                                                                           \n",
       "54b7494e1cca072a  I had a go at this. I added a banner shell to ...      0   \n",
       "3f5f7eac12fd519a  \", 24 November 2011 (UTC)\\n\\nMy apology if you...      0   \n",
       "660239cdbc31a20f  What if CISPA bill became DNSchanger virus, Go...      0   \n",
       "0c03a73f401671eb  I can verify that this is the same guy who was...      0   \n",
       "\n",
       "                  severe_toxic  obscene  threat  insult  identity_hate  \n",
       "id                                                                      \n",
       "54b7494e1cca072a             0        0       0       0              0  \n",
       "3f5f7eac12fd519a             0        0       0       0              0  \n",
       "660239cdbc31a20f             0        0       0       0              0  \n",
       "0c03a73f401671eb             0        0       0       0              0  "
      ]
     },
     "execution_count": 45,
     "metadata": {},
     "output_type": "execute_result"
    }
   ],
   "source": [
    "treino.sample(4)"
   ]
  },
  {
   "cell_type": "code",
   "execution_count": 4,
   "metadata": {
    "ExecuteTime": {
     "end_time": "2020-01-23T23:43:12.882716Z",
     "start_time": "2020-01-23T23:43:12.868047Z"
    }
   },
   "outputs": [
    {
     "data": {
      "text/html": [
       "<div>\n",
       "<style scoped>\n",
       "    .dataframe tbody tr th:only-of-type {\n",
       "        vertical-align: middle;\n",
       "    }\n",
       "\n",
       "    .dataframe tbody tr th {\n",
       "        vertical-align: top;\n",
       "    }\n",
       "\n",
       "    .dataframe thead th {\n",
       "        text-align: right;\n",
       "    }\n",
       "</style>\n",
       "<table border=\"1\" class=\"dataframe\">\n",
       "  <thead>\n",
       "    <tr style=\"text-align: right;\">\n",
       "      <th></th>\n",
       "      <th>comment_text</th>\n",
       "    </tr>\n",
       "    <tr>\n",
       "      <th>id</th>\n",
       "      <th></th>\n",
       "    </tr>\n",
       "  </thead>\n",
       "  <tbody>\n",
       "    <tr>\n",
       "      <th>12fadbdae593ffd7</th>\n",
       "      <td>\" \\n\\n So is the libertarian point of view \"\"f...</td>\n",
       "    </tr>\n",
       "    <tr>\n",
       "      <th>48c1ee90e7038abf</th>\n",
       "      <td>\" \\n :::::::::::I'm sorry, I don't see \"\"we ad...</td>\n",
       "    </tr>\n",
       "    <tr>\n",
       "      <th>5e6a02bc9343cf7a</th>\n",
       "      <td>\" \\n\\n == Stupidity Running Wildly Out of Cont...</td>\n",
       "    </tr>\n",
       "    <tr>\n",
       "      <th>559bc780e9633057</th>\n",
       "      <td>== Your girlfriend == \\n\\n She moaned like a w...</td>\n",
       "    </tr>\n",
       "  </tbody>\n",
       "</table>\n",
       "</div>"
      ],
      "text/plain": [
       "                                                       comment_text\n",
       "id                                                                 \n",
       "12fadbdae593ffd7  \" \\n\\n So is the libertarian point of view \"\"f...\n",
       "48c1ee90e7038abf  \" \\n :::::::::::I'm sorry, I don't see \"\"we ad...\n",
       "5e6a02bc9343cf7a  \" \\n\\n == Stupidity Running Wildly Out of Cont...\n",
       "559bc780e9633057  == Your girlfriend == \\n\\n She moaned like a w..."
      ]
     },
     "execution_count": 4,
     "metadata": {},
     "output_type": "execute_result"
    }
   ],
   "source": [
    "teste.sample(4)"
   ]
  },
  {
   "cell_type": "code",
   "execution_count": 5,
   "metadata": {
    "ExecuteTime": {
     "end_time": "2020-01-23T23:43:12.950276Z",
     "start_time": "2020-01-23T23:43:12.884061Z"
    }
   },
   "outputs": [
    {
     "data": {
      "text/html": [
       "<div>\n",
       "<style scoped>\n",
       "    .dataframe tbody tr th:only-of-type {\n",
       "        vertical-align: middle;\n",
       "    }\n",
       "\n",
       "    .dataframe tbody tr th {\n",
       "        vertical-align: top;\n",
       "    }\n",
       "\n",
       "    .dataframe thead th {\n",
       "        text-align: right;\n",
       "    }\n",
       "</style>\n",
       "<table border=\"1\" class=\"dataframe\">\n",
       "  <thead>\n",
       "    <tr style=\"text-align: right;\">\n",
       "      <th></th>\n",
       "      <th>toxic</th>\n",
       "      <th>severe_toxic</th>\n",
       "      <th>obscene</th>\n",
       "      <th>threat</th>\n",
       "      <th>insult</th>\n",
       "      <th>identity_hate</th>\n",
       "    </tr>\n",
       "  </thead>\n",
       "  <tbody>\n",
       "    <tr>\n",
       "      <th>count</th>\n",
       "      <td>159571.000000</td>\n",
       "      <td>159571.000000</td>\n",
       "      <td>159571.000000</td>\n",
       "      <td>159571.000000</td>\n",
       "      <td>159571.000000</td>\n",
       "      <td>159571.000000</td>\n",
       "    </tr>\n",
       "    <tr>\n",
       "      <th>mean</th>\n",
       "      <td>0.095844</td>\n",
       "      <td>0.009996</td>\n",
       "      <td>0.052948</td>\n",
       "      <td>0.002996</td>\n",
       "      <td>0.049364</td>\n",
       "      <td>0.008805</td>\n",
       "    </tr>\n",
       "    <tr>\n",
       "      <th>std</th>\n",
       "      <td>0.294379</td>\n",
       "      <td>0.099477</td>\n",
       "      <td>0.223931</td>\n",
       "      <td>0.054650</td>\n",
       "      <td>0.216627</td>\n",
       "      <td>0.093420</td>\n",
       "    </tr>\n",
       "    <tr>\n",
       "      <th>min</th>\n",
       "      <td>0.000000</td>\n",
       "      <td>0.000000</td>\n",
       "      <td>0.000000</td>\n",
       "      <td>0.000000</td>\n",
       "      <td>0.000000</td>\n",
       "      <td>0.000000</td>\n",
       "    </tr>\n",
       "    <tr>\n",
       "      <th>25%</th>\n",
       "      <td>0.000000</td>\n",
       "      <td>0.000000</td>\n",
       "      <td>0.000000</td>\n",
       "      <td>0.000000</td>\n",
       "      <td>0.000000</td>\n",
       "      <td>0.000000</td>\n",
       "    </tr>\n",
       "    <tr>\n",
       "      <th>50%</th>\n",
       "      <td>0.000000</td>\n",
       "      <td>0.000000</td>\n",
       "      <td>0.000000</td>\n",
       "      <td>0.000000</td>\n",
       "      <td>0.000000</td>\n",
       "      <td>0.000000</td>\n",
       "    </tr>\n",
       "    <tr>\n",
       "      <th>75%</th>\n",
       "      <td>0.000000</td>\n",
       "      <td>0.000000</td>\n",
       "      <td>0.000000</td>\n",
       "      <td>0.000000</td>\n",
       "      <td>0.000000</td>\n",
       "      <td>0.000000</td>\n",
       "    </tr>\n",
       "    <tr>\n",
       "      <th>max</th>\n",
       "      <td>1.000000</td>\n",
       "      <td>1.000000</td>\n",
       "      <td>1.000000</td>\n",
       "      <td>1.000000</td>\n",
       "      <td>1.000000</td>\n",
       "      <td>1.000000</td>\n",
       "    </tr>\n",
       "  </tbody>\n",
       "</table>\n",
       "</div>"
      ],
      "text/plain": [
       "               toxic   severe_toxic        obscene         threat  \\\n",
       "count  159571.000000  159571.000000  159571.000000  159571.000000   \n",
       "mean        0.095844       0.009996       0.052948       0.002996   \n",
       "std         0.294379       0.099477       0.223931       0.054650   \n",
       "min         0.000000       0.000000       0.000000       0.000000   \n",
       "25%         0.000000       0.000000       0.000000       0.000000   \n",
       "50%         0.000000       0.000000       0.000000       0.000000   \n",
       "75%         0.000000       0.000000       0.000000       0.000000   \n",
       "max         1.000000       1.000000       1.000000       1.000000   \n",
       "\n",
       "              insult  identity_hate  \n",
       "count  159571.000000  159571.000000  \n",
       "mean        0.049364       0.008805  \n",
       "std         0.216627       0.093420  \n",
       "min         0.000000       0.000000  \n",
       "25%         0.000000       0.000000  \n",
       "50%         0.000000       0.000000  \n",
       "75%         0.000000       0.000000  \n",
       "max         1.000000       1.000000  "
      ]
     },
     "execution_count": 5,
     "metadata": {},
     "output_type": "execute_result"
    }
   ],
   "source": [
    "ytrain.describe()"
   ]
  },
  {
   "cell_type": "code",
   "execution_count": 6,
   "metadata": {
    "ExecuteTime": {
     "end_time": "2020-01-23T23:43:12.980132Z",
     "start_time": "2020-01-23T23:43:12.951666Z"
    }
   },
   "outputs": [
    {
     "data": {
      "text/html": [
       "<div>\n",
       "<style scoped>\n",
       "    .dataframe tbody tr th:only-of-type {\n",
       "        vertical-align: middle;\n",
       "    }\n",
       "\n",
       "    .dataframe tbody tr th {\n",
       "        vertical-align: top;\n",
       "    }\n",
       "\n",
       "    .dataframe thead th {\n",
       "        text-align: right;\n",
       "    }\n",
       "</style>\n",
       "<table border=\"1\" class=\"dataframe\">\n",
       "  <thead>\n",
       "    <tr style=\"text-align: right;\">\n",
       "      <th></th>\n",
       "      <th>toxic</th>\n",
       "      <th>severe_toxic</th>\n",
       "      <th>obscene</th>\n",
       "      <th>threat</th>\n",
       "      <th>insult</th>\n",
       "      <th>identity_hate</th>\n",
       "    </tr>\n",
       "  </thead>\n",
       "  <tbody>\n",
       "    <tr>\n",
       "      <th>0</th>\n",
       "      <td>144277</td>\n",
       "      <td>157976</td>\n",
       "      <td>151122</td>\n",
       "      <td>159093</td>\n",
       "      <td>151694</td>\n",
       "      <td>158166</td>\n",
       "    </tr>\n",
       "    <tr>\n",
       "      <th>1</th>\n",
       "      <td>15294</td>\n",
       "      <td>1595</td>\n",
       "      <td>8449</td>\n",
       "      <td>478</td>\n",
       "      <td>7877</td>\n",
       "      <td>1405</td>\n",
       "    </tr>\n",
       "  </tbody>\n",
       "</table>\n",
       "</div>"
      ],
      "text/plain": [
       "    toxic  severe_toxic  obscene  threat  insult  identity_hate\n",
       "0  144277        157976   151122  159093  151694         158166\n",
       "1   15294          1595     8449     478    7877           1405"
      ]
     },
     "execution_count": 6,
     "metadata": {},
     "output_type": "execute_result"
    }
   ],
   "source": [
    "ytrain.apply(pd.value_counts,axis=0)"
   ]
  },
  {
   "cell_type": "markdown",
   "metadata": {},
   "source": [
    "We do have an imbalance datset in both ways:\n",
    "    - within each label - class 1/class 0 ratios for each label -i.e. ratio of 1 to 0 class;\n",
    "    - between labels - class 1 from different labels - i.e. threat : 478 toxic : 15294;"
   ]
  },
  {
   "cell_type": "code",
   "execution_count": 7,
   "metadata": {
    "ExecuteTime": {
     "end_time": "2020-01-23T23:43:14.597949Z",
     "start_time": "2020-01-23T23:43:12.981926Z"
    },
    "scrolled": false
   },
   "outputs": [
    {
     "name": "stdout",
     "output_type": "stream",
     "text": [
      "Train distribution of text length:\n",
      " count    159571.000000\n",
      "mean        394.073221\n",
      "std         590.720282\n",
      "min           6.000000\n",
      "25%          96.000000\n",
      "50%         205.000000\n",
      "75%         435.000000\n",
      "max        5000.000000\n",
      "Name: comment_text, dtype: float64\n",
      "\n",
      "\n",
      "Test distribution of text length:\n",
      " count    153164.000000\n",
      "mean        364.875121\n",
      "std         592.492099\n",
      "min           1.000000\n",
      "25%          79.000000\n",
      "50%         180.000000\n",
      "75%         392.000000\n",
      "max        5000.000000\n",
      "Name: comment_text, dtype: float64\n"
     ]
    },
    {
     "data": {
      "image/png": "[encoded data removed]",
      "text/plain": [
       "<Figure size 864x576 with 1 Axes>"
      ]
     },
     "metadata": {
      "needs_background": "light"
     },
     "output_type": "display_data"
    }
   ],
   "source": [
    "plt.figure(figsize=(12,8));\n",
    "sns.distplot(Xtrain['comment_text'].apply(len),\n",
    "    hist_kws={'edgecolor':'black'},\n",
    "             kde_kws={'linewidth': 5})\n",
    "sns.distplot(Xtest['comment_text'].apply(len),\n",
    "    hist_kws={'edgecolor':'red'},\n",
    "             kde_kws={'linewidth': 3})\n",
    "\n",
    "print('Train distribution of text length:\\n',\n",
    "      Xtrain['comment_text'].apply(len).describe())\n",
    "print('\\n')\n",
    "print('Test distribution of text length:\\n',\n",
    "      Xtest['comment_text'].apply(len).describe())\n"
   ]
  },
  {
   "cell_type": "markdown",
   "metadata": {},
   "source": [
    "- The distribution of twitter lenghts are slightly different between train and test set."
   ]
  },
  {
   "cell_type": "markdown",
   "metadata": {},
   "source": [
    "- We will try to understand the frequency of co-occurence/ strenght of association between different labels, which may lead our future modelling.\n",
    "    - Considering we do have binary classes we will opt for 'Spearman rho', as a non-parametric measure for correlation;"
   ]
  },
  {
   "cell_type": "code",
   "execution_count": 8,
   "metadata": {
    "ExecuteTime": {
     "end_time": "2020-01-23T23:43:15.379706Z",
     "start_time": "2020-01-23T23:43:14.601850Z"
    }
   },
   "outputs": [
    {
     "data": {
      "text/plain": [
       "(6.0, 0.0)"
      ]
     },
     "execution_count": 8,
     "metadata": {},
     "output_type": "execute_result"
    },
    {
     "data": {
      "image/png": "[encoded data removed]",
      "text/plain": [
       "<Figure size 720x576 with 2 Axes>"
      ]
     },
     "metadata": {
      "needs_background": "light"
     },
     "output_type": "display_data"
    }
   ],
   "source": [
    "plt.figure(figsize=(10,8))\n",
    "\n",
    "ax = sns.heatmap(ytrain.corr(method='spearman'),\n",
    "                 xticklabels=ytrain.columns.values,\n",
    "                 yticklabels=ytrain.columns.values,\n",
    "                 annot=True)\n",
    "bottom, top = ax.get_ylim()\n",
    "\n",
    "ax.set_ylim(bottom + 0.5, top - 0.5) # quick-fix for matplolib 3.1.1 breaking seaborn"
   ]
  },
  {
   "cell_type": "markdown",
   "metadata": {},
   "source": [
    "- It seems we do have stronger correlations between toxic-obscene, toxic-insult, obscene-insult.\n",
    "- Interesting to observe that threat do no represent strong correlation.\n",
    "    - Would that be the case that threateners usually focus their energy mainly on the threat?\n",
    "    - Or the case that multi-labelling threating altogether with different labels would be difficult?\n",
    "    "
   ]
  },
  {
   "cell_type": "code",
   "execution_count": 9,
   "metadata": {
    "ExecuteTime": {
     "end_time": "2020-01-23T23:43:15.458087Z",
     "start_time": "2020-01-23T23:43:15.381981Z"
    },
    "scrolled": true
   },
   "outputs": [],
   "source": [
    "treino_ = treino.copy()\n",
    "treino_['Length'] = Xtrain['comment_text'].apply(len)"
   ]
  },
  {
   "cell_type": "code",
   "execution_count": 10,
   "metadata": {
    "ExecuteTime": {
     "end_time": "2020-01-23T23:43:15.506772Z",
     "start_time": "2020-01-23T23:43:15.459842Z"
    }
   },
   "outputs": [
    {
     "data": {
      "text/plain": [
       "toxic           -0.054470\n",
       "severe_toxic     0.010131\n",
       "obscene         -0.042945\n",
       "threat          -0.008011\n",
       "insult          -0.045052\n",
       "identity_hate   -0.013647\n",
       "Length           1.000000\n",
       "Name: Length, dtype: float64"
      ]
     },
     "execution_count": 10,
     "metadata": {},
     "output_type": "execute_result"
    }
   ],
   "source": [
    "pd.concat([ytrain,treino_['Length']],axis=1).corr()['Length']"
   ]
  },
  {
   "cell_type": "markdown",
   "metadata": {},
   "source": [
    "- Overall it seems that the correlations between the ocurrence (class 1) of certains labels is not strongly correlated to text lenght.\n",
    "- However checking median  text lenght for each group. We're looking for a bit more robust estimator of central tendency, so forget about the mean."
   ]
  },
  {
   "cell_type": "code",
   "execution_count": 11,
   "metadata": {
    "ExecuteTime": {
     "end_time": "2020-01-23T23:43:15.704302Z",
     "start_time": "2020-01-23T23:43:15.508849Z"
    }
   },
   "outputs": [],
   "source": [
    "dict_df = {i:pd.concat([ytrain,treino_['Length']],axis=1).groupby(i)\\\n",
    "    ['Length'].agg(['count','min','max','median','std']) for i in treino_.columns[1:-1]}\n"
   ]
  },
  {
   "cell_type": "code",
   "execution_count": 12,
   "metadata": {
    "ExecuteTime": {
     "end_time": "2020-01-23T23:43:16.014994Z",
     "start_time": "2020-01-23T23:43:15.705926Z"
    },
    "scrolled": true
   },
   "outputs": [
    {
     "data": {
      "text/html": [
       "<style  type=\"text/css\" >\n",
       "    #T_205af364_3e3a_11ea_84e5_5ccd5b0d375crow0_col0 {\n",
       "            background-color:  #178b66;\n",
       "            color:  #000000;\n",
       "        }    #T_205af364_3e3a_11ea_84e5_5ccd5b0d375crow0_col1 {\n",
       "            background-color:  #ffff66;\n",
       "            color:  #000000;\n",
       "        }    #T_205af364_3e3a_11ea_84e5_5ccd5b0d375crow0_col2 {\n",
       "            background-color:  #ffff66;\n",
       "            color:  #000000;\n",
       "        }    #T_205af364_3e3a_11ea_84e5_5ccd5b0d375crow0_col3 {\n",
       "            background-color:  #008066;\n",
       "            color:  #f1f1f1;\n",
       "        }    #T_205af364_3e3a_11ea_84e5_5ccd5b0d375crow0_col4 {\n",
       "            background-color:  #fefe66;\n",
       "            color:  #000000;\n",
       "        }    #T_205af364_3e3a_11ea_84e5_5ccd5b0d375crow1_col0 {\n",
       "            background-color:  #e8f466;\n",
       "            color:  #000000;\n",
       "        }    #T_205af364_3e3a_11ea_84e5_5ccd5b0d375crow1_col1 {\n",
       "            background-color:  #d8ec66;\n",
       "            color:  #000000;\n",
       "        }    #T_205af364_3e3a_11ea_84e5_5ccd5b0d375crow1_col2 {\n",
       "            background-color:  #ffff66;\n",
       "            color:  #000000;\n",
       "        }    #T_205af364_3e3a_11ea_84e5_5ccd5b0d375crow1_col3 {\n",
       "            background-color:  #c3e166;\n",
       "            color:  #000000;\n",
       "        }    #T_205af364_3e3a_11ea_84e5_5ccd5b0d375crow1_col4 {\n",
       "            background-color:  #eef666;\n",
       "            color:  #000000;\n",
       "        }    #T_205af364_3e3a_11ea_84e5_5ccd5b0d375crow2_col0 {\n",
       "            background-color:  #018066;\n",
       "            color:  #f1f1f1;\n",
       "        }    #T_205af364_3e3a_11ea_84e5_5ccd5b0d375crow2_col1 {\n",
       "            background-color:  #ffff66;\n",
       "            color:  #000000;\n",
       "        }    #T_205af364_3e3a_11ea_84e5_5ccd5b0d375crow2_col2 {\n",
       "            background-color:  #ffff66;\n",
       "            color:  #000000;\n",
       "        }    #T_205af364_3e3a_11ea_84e5_5ccd5b0d375crow2_col3 {\n",
       "            background-color:  #128866;\n",
       "            color:  #000000;\n",
       "        }    #T_205af364_3e3a_11ea_84e5_5ccd5b0d375crow2_col4 {\n",
       "            background-color:  #ffff66;\n",
       "            color:  #000000;\n",
       "        }    #T_205af364_3e3a_11ea_84e5_5ccd5b0d375crow3_col0 {\n",
       "            background-color:  #fefe66;\n",
       "            color:  #000000;\n",
       "        }    #T_205af364_3e3a_11ea_84e5_5ccd5b0d375crow3_col1 {\n",
       "            background-color:  #d8ec66;\n",
       "            color:  #000000;\n",
       "        }    #T_205af364_3e3a_11ea_84e5_5ccd5b0d375crow3_col2 {\n",
       "            background-color:  #ffff66;\n",
       "            color:  #000000;\n",
       "        }    #T_205af364_3e3a_11ea_84e5_5ccd5b0d375crow3_col3 {\n",
       "            background-color:  #ffff66;\n",
       "            color:  #000000;\n",
       "        }    #T_205af364_3e3a_11ea_84e5_5ccd5b0d375crow3_col4 {\n",
       "            background-color:  #008066;\n",
       "            color:  #f1f1f1;\n",
       "        }    #T_205af364_3e3a_11ea_84e5_5ccd5b0d375crow4_col0 {\n",
       "            background-color:  #0c8666;\n",
       "            color:  #000000;\n",
       "        }    #T_205af364_3e3a_11ea_84e5_5ccd5b0d375crow4_col1 {\n",
       "            background-color:  #ffff66;\n",
       "            color:  #000000;\n",
       "        }    #T_205af364_3e3a_11ea_84e5_5ccd5b0d375crow4_col2 {\n",
       "            background-color:  #ffff66;\n",
       "            color:  #000000;\n",
       "        }    #T_205af364_3e3a_11ea_84e5_5ccd5b0d375crow4_col3 {\n",
       "            background-color:  #088466;\n",
       "            color:  #f1f1f1;\n",
       "        }    #T_205af364_3e3a_11ea_84e5_5ccd5b0d375crow4_col4 {\n",
       "            background-color:  #fefe66;\n",
       "            color:  #000000;\n",
       "        }    #T_205af364_3e3a_11ea_84e5_5ccd5b0d375crow5_col0 {\n",
       "            background-color:  #f3f966;\n",
       "            color:  #000000;\n",
       "        }    #T_205af364_3e3a_11ea_84e5_5ccd5b0d375crow5_col1 {\n",
       "            background-color:  #d8ec66;\n",
       "            color:  #000000;\n",
       "        }    #T_205af364_3e3a_11ea_84e5_5ccd5b0d375crow5_col2 {\n",
       "            background-color:  #ffff66;\n",
       "            color:  #000000;\n",
       "        }    #T_205af364_3e3a_11ea_84e5_5ccd5b0d375crow5_col3 {\n",
       "            background-color:  #deee66;\n",
       "            color:  #000000;\n",
       "        }    #T_205af364_3e3a_11ea_84e5_5ccd5b0d375crow5_col4 {\n",
       "            background-color:  #e2f066;\n",
       "            color:  #000000;\n",
       "        }    #T_205af364_3e3a_11ea_84e5_5ccd5b0d375crow6_col0 {\n",
       "            background-color:  #008066;\n",
       "            color:  #f1f1f1;\n",
       "        }    #T_205af364_3e3a_11ea_84e5_5ccd5b0d375crow6_col1 {\n",
       "            background-color:  #ffff66;\n",
       "            color:  #000000;\n",
       "        }    #T_205af364_3e3a_11ea_84e5_5ccd5b0d375crow6_col2 {\n",
       "            background-color:  #ffff66;\n",
       "            color:  #000000;\n",
       "        }    #T_205af364_3e3a_11ea_84e5_5ccd5b0d375crow6_col3 {\n",
       "            background-color:  #148a66;\n",
       "            color:  #000000;\n",
       "        }    #T_205af364_3e3a_11ea_84e5_5ccd5b0d375crow6_col4 {\n",
       "            background-color:  #fcfe66;\n",
       "            color:  #000000;\n",
       "        }    #T_205af364_3e3a_11ea_84e5_5ccd5b0d375crow7_col0 {\n",
       "            background-color:  #ffff66;\n",
       "            color:  #000000;\n",
       "        }    #T_205af364_3e3a_11ea_84e5_5ccd5b0d375crow7_col1 {\n",
       "            background-color:  #008066;\n",
       "            color:  #f1f1f1;\n",
       "        }    #T_205af364_3e3a_11ea_84e5_5ccd5b0d375crow7_col2 {\n",
       "            background-color:  #ffff66;\n",
       "            color:  #000000;\n",
       "        }    #T_205af364_3e3a_11ea_84e5_5ccd5b0d375crow7_col3 {\n",
       "            background-color:  #c7e366;\n",
       "            color:  #000000;\n",
       "        }    #T_205af364_3e3a_11ea_84e5_5ccd5b0d375crow7_col4 {\n",
       "            background-color:  #b5da66;\n",
       "            color:  #000000;\n",
       "        }    #T_205af364_3e3a_11ea_84e5_5ccd5b0d375crow8_col0 {\n",
       "            background-color:  #0b8566;\n",
       "            color:  #000000;\n",
       "        }    #T_205af364_3e3a_11ea_84e5_5ccd5b0d375crow8_col1 {\n",
       "            background-color:  #ffff66;\n",
       "            color:  #000000;\n",
       "        }    #T_205af364_3e3a_11ea_84e5_5ccd5b0d375crow8_col2 {\n",
       "            background-color:  #ffff66;\n",
       "            color:  #000000;\n",
       "        }    #T_205af364_3e3a_11ea_84e5_5ccd5b0d375crow8_col3 {\n",
       "            background-color:  #088466;\n",
       "            color:  #f1f1f1;\n",
       "        }    #T_205af364_3e3a_11ea_84e5_5ccd5b0d375crow8_col4 {\n",
       "            background-color:  #fdfe66;\n",
       "            color:  #000000;\n",
       "        }    #T_205af364_3e3a_11ea_84e5_5ccd5b0d375crow9_col0 {\n",
       "            background-color:  #f4fa66;\n",
       "            color:  #000000;\n",
       "        }    #T_205af364_3e3a_11ea_84e5_5ccd5b0d375crow9_col1 {\n",
       "            background-color:  #d8ec66;\n",
       "            color:  #000000;\n",
       "        }    #T_205af364_3e3a_11ea_84e5_5ccd5b0d375crow9_col2 {\n",
       "            background-color:  #ffff66;\n",
       "            color:  #000000;\n",
       "        }    #T_205af364_3e3a_11ea_84e5_5ccd5b0d375crow9_col3 {\n",
       "            background-color:  #daec66;\n",
       "            color:  #000000;\n",
       "        }    #T_205af364_3e3a_11ea_84e5_5ccd5b0d375crow9_col4 {\n",
       "            background-color:  #ecf666;\n",
       "            color:  #000000;\n",
       "        }    #T_205af364_3e3a_11ea_84e5_5ccd5b0d375crow10_col0 {\n",
       "            background-color:  #018066;\n",
       "            color:  #f1f1f1;\n",
       "        }    #T_205af364_3e3a_11ea_84e5_5ccd5b0d375crow10_col1 {\n",
       "            background-color:  #ffff66;\n",
       "            color:  #000000;\n",
       "        }    #T_205af364_3e3a_11ea_84e5_5ccd5b0d375crow10_col2 {\n",
       "            background-color:  #ffff66;\n",
       "            color:  #000000;\n",
       "        }    #T_205af364_3e3a_11ea_84e5_5ccd5b0d375crow10_col3 {\n",
       "            background-color:  #148a66;\n",
       "            color:  #000000;\n",
       "        }    #T_205af364_3e3a_11ea_84e5_5ccd5b0d375crow10_col4 {\n",
       "            background-color:  #fcfe66;\n",
       "            color:  #000000;\n",
       "        }    #T_205af364_3e3a_11ea_84e5_5ccd5b0d375crow11_col0 {\n",
       "            background-color:  #fefe66;\n",
       "            color:  #000000;\n",
       "        }    #T_205af364_3e3a_11ea_84e5_5ccd5b0d375crow11_col1 {\n",
       "            background-color:  #138966;\n",
       "            color:  #000000;\n",
       "        }    #T_205af364_3e3a_11ea_84e5_5ccd5b0d375crow11_col2 {\n",
       "            background-color:  #ffff66;\n",
       "            color:  #000000;\n",
       "        }    #T_205af364_3e3a_11ea_84e5_5ccd5b0d375crow11_col3 {\n",
       "            background-color:  #d6eb66;\n",
       "            color:  #000000;\n",
       "        }    #T_205af364_3e3a_11ea_84e5_5ccd5b0d375crow11_col4 {\n",
       "            background-color:  #c9e466;\n",
       "            color:  #000000;\n",
       "        }</style><table id=\"T_205af364_3e3a_11ea_84e5_5ccd5b0d375c\" ><thead>    <tr>        <th class=\"blank\" ></th>        <th class=\"blank level0\" ></th>        <th class=\"col_heading level0 col0\" >count</th>        <th class=\"col_heading level0 col1\" >min</th>        <th class=\"col_heading level0 col2\" >max</th>        <th class=\"col_heading level0 col3\" >median</th>        <th class=\"col_heading level0 col4\" >std</th>    </tr></thead><tbody>\n",
       "                <tr>\n",
       "                        <th id=\"T_205af364_3e3a_11ea_84e5_5ccd5b0d375clevel0_row0\" class=\"row_heading level0 row0\" rowspan=2>toxic</th>\n",
       "                        <th id=\"T_205af364_3e3a_11ea_84e5_5ccd5b0d375clevel1_row0\" class=\"row_heading level1 row0\" >0</th>\n",
       "                        <td id=\"T_205af364_3e3a_11ea_84e5_5ccd5b0d375crow0_col0\" class=\"data row0 col0\" >144277</td>\n",
       "                        <td id=\"T_205af364_3e3a_11ea_84e5_5ccd5b0d375crow0_col1\" class=\"data row0 col1\" >6</td>\n",
       "                        <td id=\"T_205af364_3e3a_11ea_84e5_5ccd5b0d375crow0_col2\" class=\"data row0 col2\" >5000</td>\n",
       "                        <td id=\"T_205af364_3e3a_11ea_84e5_5ccd5b0d375crow0_col3\" class=\"data row0 col3\" >216</td>\n",
       "                        <td id=\"T_205af364_3e3a_11ea_84e5_5ccd5b0d375crow0_col4\" class=\"data row0 col4\" >586.851</td>\n",
       "            </tr>\n",
       "            <tr>\n",
       "                                <th id=\"T_205af364_3e3a_11ea_84e5_5ccd5b0d375clevel1_row1\" class=\"row_heading level1 row1\" >1</th>\n",
       "                        <td id=\"T_205af364_3e3a_11ea_84e5_5ccd5b0d375crow1_col0\" class=\"data row1 col0\" >15294</td>\n",
       "                        <td id=\"T_205af364_3e3a_11ea_84e5_5ccd5b0d375crow1_col1\" class=\"data row1 col1\" >8</td>\n",
       "                        <td id=\"T_205af364_3e3a_11ea_84e5_5ccd5b0d375crow1_col2\" class=\"data row1 col2\" >5000</td>\n",
       "                        <td id=\"T_205af364_3e3a_11ea_84e5_5ccd5b0d375crow1_col3\" class=\"data row1 col3\" >123</td>\n",
       "                        <td id=\"T_205af364_3e3a_11ea_84e5_5ccd5b0d375crow1_col4\" class=\"data row1 col4\" >617.379</td>\n",
       "            </tr>\n",
       "            <tr>\n",
       "                        <th id=\"T_205af364_3e3a_11ea_84e5_5ccd5b0d375clevel0_row2\" class=\"row_heading level0 row2\" rowspan=2>severe_toxic</th>\n",
       "                        <th id=\"T_205af364_3e3a_11ea_84e5_5ccd5b0d375clevel1_row2\" class=\"row_heading level1 row2\" >0</th>\n",
       "                        <td id=\"T_205af364_3e3a_11ea_84e5_5ccd5b0d375crow2_col0\" class=\"data row2 col0\" >157976</td>\n",
       "                        <td id=\"T_205af364_3e3a_11ea_84e5_5ccd5b0d375crow2_col1\" class=\"data row2 col1\" >6</td>\n",
       "                        <td id=\"T_205af364_3e3a_11ea_84e5_5ccd5b0d375crow2_col2\" class=\"data row2 col2\" >5000</td>\n",
       "                        <td id=\"T_205af364_3e3a_11ea_84e5_5ccd5b0d375crow2_col3\" class=\"data row2 col3\" >207</td>\n",
       "                        <td id=\"T_205af364_3e3a_11ea_84e5_5ccd5b0d375crow2_col4\" class=\"data row2 col4\" >583.462</td>\n",
       "            </tr>\n",
       "            <tr>\n",
       "                                <th id=\"T_205af364_3e3a_11ea_84e5_5ccd5b0d375clevel1_row3\" class=\"row_heading level1 row3\" >1</th>\n",
       "                        <td id=\"T_205af364_3e3a_11ea_84e5_5ccd5b0d375crow3_col0\" class=\"data row3 col0\" >1595</td>\n",
       "                        <td id=\"T_205af364_3e3a_11ea_84e5_5ccd5b0d375crow3_col1\" class=\"data row3 col1\" >8</td>\n",
       "                        <td id=\"T_205af364_3e3a_11ea_84e5_5ccd5b0d375crow3_col2\" class=\"data row3 col2\" >5000</td>\n",
       "                        <td id=\"T_205af364_3e3a_11ea_84e5_5ccd5b0d375crow3_col3\" class=\"data row3 col3\" >94</td>\n",
       "                        <td id=\"T_205af364_3e3a_11ea_84e5_5ccd5b0d375crow3_col4\" class=\"data row3 col4\" >1090.99</td>\n",
       "            </tr>\n",
       "            <tr>\n",
       "                        <th id=\"T_205af364_3e3a_11ea_84e5_5ccd5b0d375clevel0_row4\" class=\"row_heading level0 row4\" rowspan=2>obscene</th>\n",
       "                        <th id=\"T_205af364_3e3a_11ea_84e5_5ccd5b0d375clevel1_row4\" class=\"row_heading level1 row4\" >0</th>\n",
       "                        <td id=\"T_205af364_3e3a_11ea_84e5_5ccd5b0d375crow4_col0\" class=\"data row4 col0\" >151122</td>\n",
       "                        <td id=\"T_205af364_3e3a_11ea_84e5_5ccd5b0d375crow4_col1\" class=\"data row4 col1\" >6</td>\n",
       "                        <td id=\"T_205af364_3e3a_11ea_84e5_5ccd5b0d375crow4_col2\" class=\"data row4 col2\" >5000</td>\n",
       "                        <td id=\"T_205af364_3e3a_11ea_84e5_5ccd5b0d375crow4_col3\" class=\"data row4 col3\" >212</td>\n",
       "                        <td id=\"T_205af364_3e3a_11ea_84e5_5ccd5b0d375crow4_col4\" class=\"data row4 col4\" >587.201</td>\n",
       "            </tr>\n",
       "            <tr>\n",
       "                                <th id=\"T_205af364_3e3a_11ea_84e5_5ccd5b0d375clevel1_row5\" class=\"row_heading level1 row5\" >1</th>\n",
       "                        <td id=\"T_205af364_3e3a_11ea_84e5_5ccd5b0d375crow5_col0\" class=\"data row5 col0\" >8449</td>\n",
       "                        <td id=\"T_205af364_3e3a_11ea_84e5_5ccd5b0d375crow5_col1\" class=\"data row5 col1\" >8</td>\n",
       "                        <td id=\"T_205af364_3e3a_11ea_84e5_5ccd5b0d375crow5_col2\" class=\"data row5 col2\" >5000</td>\n",
       "                        <td id=\"T_205af364_3e3a_11ea_84e5_5ccd5b0d375crow5_col3\" class=\"data row5 col3\" >110</td>\n",
       "                        <td id=\"T_205af364_3e3a_11ea_84e5_5ccd5b0d375crow5_col4\" class=\"data row5 col4\" >641.088</td>\n",
       "            </tr>\n",
       "            <tr>\n",
       "                        <th id=\"T_205af364_3e3a_11ea_84e5_5ccd5b0d375clevel0_row6\" class=\"row_heading level0 row6\" rowspan=2>threat</th>\n",
       "                        <th id=\"T_205af364_3e3a_11ea_84e5_5ccd5b0d375clevel1_row6\" class=\"row_heading level1 row6\" >0</th>\n",
       "                        <td id=\"T_205af364_3e3a_11ea_84e5_5ccd5b0d375crow6_col0\" class=\"data row6 col0\" >159093</td>\n",
       "                        <td id=\"T_205af364_3e3a_11ea_84e5_5ccd5b0d375crow6_col1\" class=\"data row6 col1\" >6</td>\n",
       "                        <td id=\"T_205af364_3e3a_11ea_84e5_5ccd5b0d375crow6_col2\" class=\"data row6 col2\" >5000</td>\n",
       "                        <td id=\"T_205af364_3e3a_11ea_84e5_5ccd5b0d375crow6_col3\" class=\"data row6 col3\" >206</td>\n",
       "                        <td id=\"T_205af364_3e3a_11ea_84e5_5ccd5b0d375crow6_col4\" class=\"data row6 col4\" >590.235</td>\n",
       "            </tr>\n",
       "            <tr>\n",
       "                                <th id=\"T_205af364_3e3a_11ea_84e5_5ccd5b0d375clevel1_row7\" class=\"row_heading level1 row7\" >1</th>\n",
       "                        <td id=\"T_205af364_3e3a_11ea_84e5_5ccd5b0d375crow7_col0\" class=\"data row7 col0\" >478</td>\n",
       "                        <td id=\"T_205af364_3e3a_11ea_84e5_5ccd5b0d375crow7_col1\" class=\"data row7 col1\" >19</td>\n",
       "                        <td id=\"T_205af364_3e3a_11ea_84e5_5ccd5b0d375crow7_col2\" class=\"data row7 col2\" >5000</td>\n",
       "                        <td id=\"T_205af364_3e3a_11ea_84e5_5ccd5b0d375crow7_col3\" class=\"data row7 col3\" >121</td>\n",
       "                        <td id=\"T_205af364_3e3a_11ea_84e5_5ccd5b0d375crow7_col4\" class=\"data row7 col4\" >730.209</td>\n",
       "            </tr>\n",
       "            <tr>\n",
       "                        <th id=\"T_205af364_3e3a_11ea_84e5_5ccd5b0d375clevel0_row8\" class=\"row_heading level0 row8\" rowspan=2>insult</th>\n",
       "                        <th id=\"T_205af364_3e3a_11ea_84e5_5ccd5b0d375clevel1_row8\" class=\"row_heading level1 row8\" >0</th>\n",
       "                        <td id=\"T_205af364_3e3a_11ea_84e5_5ccd5b0d375crow8_col0\" class=\"data row8 col0\" >151694</td>\n",
       "                        <td id=\"T_205af364_3e3a_11ea_84e5_5ccd5b0d375crow8_col1\" class=\"data row8 col1\" >6</td>\n",
       "                        <td id=\"T_205af364_3e3a_11ea_84e5_5ccd5b0d375crow8_col2\" class=\"data row8 col2\" >5000</td>\n",
       "                        <td id=\"T_205af364_3e3a_11ea_84e5_5ccd5b0d375crow8_col3\" class=\"data row8 col3\" >212</td>\n",
       "                        <td id=\"T_205af364_3e3a_11ea_84e5_5ccd5b0d375crow8_col4\" class=\"data row8 col4\" >588.39</td>\n",
       "            </tr>\n",
       "            <tr>\n",
       "                                <th id=\"T_205af364_3e3a_11ea_84e5_5ccd5b0d375clevel1_row9\" class=\"row_heading level1 row9\" >1</th>\n",
       "                        <td id=\"T_205af364_3e3a_11ea_84e5_5ccd5b0d375crow9_col0\" class=\"data row9 col0\" >7877</td>\n",
       "                        <td id=\"T_205af364_3e3a_11ea_84e5_5ccd5b0d375crow9_col1\" class=\"data row9 col1\" >8</td>\n",
       "                        <td id=\"T_205af364_3e3a_11ea_84e5_5ccd5b0d375crow9_col2\" class=\"data row9 col2\" >5000</td>\n",
       "                        <td id=\"T_205af364_3e3a_11ea_84e5_5ccd5b0d375crow9_col3\" class=\"data row9 col3\" >112</td>\n",
       "                        <td id=\"T_205af364_3e3a_11ea_84e5_5ccd5b0d375crow9_col4\" class=\"data row9 col4\" >622.547</td>\n",
       "            </tr>\n",
       "            <tr>\n",
       "                        <th id=\"T_205af364_3e3a_11ea_84e5_5ccd5b0d375clevel0_row10\" class=\"row_heading level0 row10\" rowspan=2>identity_hate</th>\n",
       "                        <th id=\"T_205af364_3e3a_11ea_84e5_5ccd5b0d375clevel1_row10\" class=\"row_heading level1 row10\" >0</th>\n",
       "                        <td id=\"T_205af364_3e3a_11ea_84e5_5ccd5b0d375crow10_col0\" class=\"data row10 col0\" >158166</td>\n",
       "                        <td id=\"T_205af364_3e3a_11ea_84e5_5ccd5b0d375crow10_col1\" class=\"data row10 col1\" >6</td>\n",
       "                        <td id=\"T_205af364_3e3a_11ea_84e5_5ccd5b0d375crow10_col2\" class=\"data row10 col2\" >5000</td>\n",
       "                        <td id=\"T_205af364_3e3a_11ea_84e5_5ccd5b0d375crow10_col3\" class=\"data row10 col3\" >206</td>\n",
       "                        <td id=\"T_205af364_3e3a_11ea_84e5_5ccd5b0d375crow10_col4\" class=\"data row10 col4\" >589.694</td>\n",
       "            </tr>\n",
       "            <tr>\n",
       "                                <th id=\"T_205af364_3e3a_11ea_84e5_5ccd5b0d375clevel1_row11\" class=\"row_heading level1 row11\" >1</th>\n",
       "                        <td id=\"T_205af364_3e3a_11ea_84e5_5ccd5b0d375crow11_col0\" class=\"data row11 col0\" >1405</td>\n",
       "                        <td id=\"T_205af364_3e3a_11ea_84e5_5ccd5b0d375crow11_col1\" class=\"data row11 col1\" >18</td>\n",
       "                        <td id=\"T_205af364_3e3a_11ea_84e5_5ccd5b0d375crow11_col2\" class=\"data row11 col2\" >5000</td>\n",
       "                        <td id=\"T_205af364_3e3a_11ea_84e5_5ccd5b0d375crow11_col3\" class=\"data row11 col3\" >114</td>\n",
       "                        <td id=\"T_205af364_3e3a_11ea_84e5_5ccd5b0d375crow11_col4\" class=\"data row11 col4\" >691.629</td>\n",
       "            </tr>\n",
       "    </tbody></table>"
      ],
      "text/plain": [
       "<pandas.io.formats.style.Styler at 0x7f88ac76d588>"
      ]
     },
     "execution_count": 12,
     "metadata": {},
     "output_type": "execute_result"
    }
   ],
   "source": [
    "lengths = pd.DataFrame()\n",
    "for k,v in dict_df.items():\n",
    "    lengths = pd.concat([lengths,v])\n",
    "\n",
    "lengths.index = pd.MultiIndex.from_product([dict_df.keys(), [0,1]])\n",
    "lengths.style.background_gradient(cmap='summer_r')"
   ]
  },
  {
   "cell_type": "markdown",
   "metadata": {},
   "source": [
    "[CLUE]- It seems that it could be quite useful to add a text_length variable from the data we've seen"
   ]
  },
  {
   "cell_type": "code",
   "execution_count": 62,
   "metadata": {
    "ExecuteTime": {
     "end_time": "2020-01-23T23:57:56.481136Z",
     "start_time": "2020-01-23T23:57:56.464454Z"
    }
   },
   "outputs": [
    {
     "data": {
      "text/plain": [
       "{0: Index(['0000997932d777bf', '000103f0d9cfb60f', '000113f07ec002fd',\n",
       "        '0001b41b1c6bb37e', '0001d958c54c6e35', '00025465d4725e87',\n",
       "        '00031b1e95af7921', '00037261f536c51d', '00040093b2687caa',\n",
       "        '0005300084f90edc',\n",
       "        ...\n",
       "        'ffd2e85b07b3c7e4', 'ffd72e9766c09c97', 'ffe029a7c79dc7fe',\n",
       "        'ffe897e7f7182c90', 'ffe8b9316245be30', 'ffe987279560d7ff',\n",
       "        'ffea4adeee384e90', 'ffee36eab5c267c9', 'fff125370e4aaaf3',\n",
       "        'fff46fc426af1f9a'],\n",
       "       dtype='object', name='id', length=144277),\n",
       " 1: Index(['0002bcb3da6cb337', '0005c987bdfc9d4b', '0007e25b2121310b',\n",
       "        '001810bf8c45bf5f', '00190820581d90ce', '001956c382006abd',\n",
       "        '001dc38a83d420cf', '0020e7119b96eeeb', '0020fd96ed3b8c8b',\n",
       "        '0021fe88bc4da3e6',\n",
       "        ...\n",
       "        'fd68ef478b3dfd05', 'fdc92e571d39e7e1', 'fdce660ddcd6d7ca',\n",
       "        'feb5637c531f933d', 'fef142420a215b90', 'fef4cf7ba0012866',\n",
       "        'ff39a2895fc3b40e', 'ffa33d3122b599d6', 'ffb47123b2d82762',\n",
       "        'ffbdbb0483ed0841'],\n",
       "       dtype='object', name='id', length=15294)}"
      ]
     },
     "execution_count": 62,
     "metadata": {},
     "output_type": "execute_result"
    }
   ],
   "source": [
    "treino_.groupby('toxic').groups"
   ]
  },
  {
   "cell_type": "code",
   "execution_count": 82,
   "metadata": {
    "ExecuteTime": {
     "end_time": "2020-01-24T00:03:16.813976Z",
     "start_time": "2020-01-24T00:03:16.798330Z"
    }
   },
   "outputs": [
    {
     "data": {
      "text/html": [
       "<div>\n",
       "<style scoped>\n",
       "    .dataframe tbody tr th:only-of-type {\n",
       "        vertical-align: middle;\n",
       "    }\n",
       "\n",
       "    .dataframe tbody tr th {\n",
       "        vertical-align: top;\n",
       "    }\n",
       "\n",
       "    .dataframe thead th {\n",
       "        text-align: right;\n",
       "    }\n",
       "</style>\n",
       "<table border=\"1\" class=\"dataframe\">\n",
       "  <thead>\n",
       "    <tr style=\"text-align: right;\">\n",
       "      <th></th>\n",
       "      <th>comment_text</th>\n",
       "      <th>toxic</th>\n",
       "      <th>severe_toxic</th>\n",
       "      <th>obscene</th>\n",
       "      <th>threat</th>\n",
       "      <th>insult</th>\n",
       "      <th>identity_hate</th>\n",
       "      <th>Length</th>\n",
       "    </tr>\n",
       "    <tr>\n",
       "      <th>id</th>\n",
       "      <th></th>\n",
       "      <th></th>\n",
       "      <th></th>\n",
       "      <th></th>\n",
       "      <th></th>\n",
       "      <th></th>\n",
       "      <th></th>\n",
       "      <th></th>\n",
       "    </tr>\n",
       "  </thead>\n",
       "  <tbody>\n",
       "    <tr>\n",
       "      <th>0000997932d777bf</th>\n",
       "      <td>Explanation\\nWhy the edits made under my usern...</td>\n",
       "      <td>0</td>\n",
       "      <td>0</td>\n",
       "      <td>0</td>\n",
       "      <td>0</td>\n",
       "      <td>0</td>\n",
       "      <td>0</td>\n",
       "      <td>264</td>\n",
       "    </tr>\n",
       "    <tr>\n",
       "      <th>000103f0d9cfb60f</th>\n",
       "      <td>D'aww! He matches this background colour I'm s...</td>\n",
       "      <td>0</td>\n",
       "      <td>0</td>\n",
       "      <td>0</td>\n",
       "      <td>0</td>\n",
       "      <td>0</td>\n",
       "      <td>0</td>\n",
       "      <td>112</td>\n",
       "    </tr>\n",
       "    <tr>\n",
       "      <th>000113f07ec002fd</th>\n",
       "      <td>Hey man, I'm really not trying to edit war. It...</td>\n",
       "      <td>0</td>\n",
       "      <td>0</td>\n",
       "      <td>0</td>\n",
       "      <td>0</td>\n",
       "      <td>0</td>\n",
       "      <td>0</td>\n",
       "      <td>233</td>\n",
       "    </tr>\n",
       "    <tr>\n",
       "      <th>0001b41b1c6bb37e</th>\n",
       "      <td>\"\\nMore\\nI can't make any real suggestions on ...</td>\n",
       "      <td>0</td>\n",
       "      <td>0</td>\n",
       "      <td>0</td>\n",
       "      <td>0</td>\n",
       "      <td>0</td>\n",
       "      <td>0</td>\n",
       "      <td>622</td>\n",
       "    </tr>\n",
       "    <tr>\n",
       "      <th>0001d958c54c6e35</th>\n",
       "      <td>You, sir, are my hero. Any chance you remember...</td>\n",
       "      <td>0</td>\n",
       "      <td>0</td>\n",
       "      <td>0</td>\n",
       "      <td>0</td>\n",
       "      <td>0</td>\n",
       "      <td>0</td>\n",
       "      <td>67</td>\n",
       "    </tr>\n",
       "    <tr>\n",
       "      <th>...</th>\n",
       "      <td>...</td>\n",
       "      <td>...</td>\n",
       "      <td>...</td>\n",
       "      <td>...</td>\n",
       "      <td>...</td>\n",
       "      <td>...</td>\n",
       "      <td>...</td>\n",
       "      <td>...</td>\n",
       "    </tr>\n",
       "    <tr>\n",
       "      <th>ffe987279560d7ff</th>\n",
       "      <td>\":::::And for the second time of asking, when ...</td>\n",
       "      <td>0</td>\n",
       "      <td>0</td>\n",
       "      <td>0</td>\n",
       "      <td>0</td>\n",
       "      <td>0</td>\n",
       "      <td>0</td>\n",
       "      <td>295</td>\n",
       "    </tr>\n",
       "    <tr>\n",
       "      <th>ffea4adeee384e90</th>\n",
       "      <td>You should be ashamed of yourself \\n\\nThat is ...</td>\n",
       "      <td>0</td>\n",
       "      <td>0</td>\n",
       "      <td>0</td>\n",
       "      <td>0</td>\n",
       "      <td>0</td>\n",
       "      <td>0</td>\n",
       "      <td>99</td>\n",
       "    </tr>\n",
       "    <tr>\n",
       "      <th>ffee36eab5c267c9</th>\n",
       "      <td>Spitzer \\n\\nUmm, theres no actual article for ...</td>\n",
       "      <td>0</td>\n",
       "      <td>0</td>\n",
       "      <td>0</td>\n",
       "      <td>0</td>\n",
       "      <td>0</td>\n",
       "      <td>0</td>\n",
       "      <td>81</td>\n",
       "    </tr>\n",
       "    <tr>\n",
       "      <th>fff125370e4aaaf3</th>\n",
       "      <td>And it looks like it was actually you who put ...</td>\n",
       "      <td>0</td>\n",
       "      <td>0</td>\n",
       "      <td>0</td>\n",
       "      <td>0</td>\n",
       "      <td>0</td>\n",
       "      <td>0</td>\n",
       "      <td>116</td>\n",
       "    </tr>\n",
       "    <tr>\n",
       "      <th>fff46fc426af1f9a</th>\n",
       "      <td>\"\\nAnd ... I really don't think you understand...</td>\n",
       "      <td>0</td>\n",
       "      <td>0</td>\n",
       "      <td>0</td>\n",
       "      <td>0</td>\n",
       "      <td>0</td>\n",
       "      <td>0</td>\n",
       "      <td>189</td>\n",
       "    </tr>\n",
       "  </tbody>\n",
       "</table>\n",
       "<p>159571 rows × 8 columns</p>\n",
       "</div>"
      ],
      "text/plain": [
       "                                                       comment_text  toxic  \\\n",
       "id                                                                           \n",
       "0000997932d777bf  Explanation\\nWhy the edits made under my usern...      0   \n",
       "000103f0d9cfb60f  D'aww! He matches this background colour I'm s...      0   \n",
       "000113f07ec002fd  Hey man, I'm really not trying to edit war. It...      0   \n",
       "0001b41b1c6bb37e  \"\\nMore\\nI can't make any real suggestions on ...      0   \n",
       "0001d958c54c6e35  You, sir, are my hero. Any chance you remember...      0   \n",
       "...                                                             ...    ...   \n",
       "ffe987279560d7ff  \":::::And for the second time of asking, when ...      0   \n",
       "ffea4adeee384e90  You should be ashamed of yourself \\n\\nThat is ...      0   \n",
       "ffee36eab5c267c9  Spitzer \\n\\nUmm, theres no actual article for ...      0   \n",
       "fff125370e4aaaf3  And it looks like it was actually you who put ...      0   \n",
       "fff46fc426af1f9a  \"\\nAnd ... I really don't think you understand...      0   \n",
       "\n",
       "                  severe_toxic  obscene  threat  insult  identity_hate  Length  \n",
       "id                                                                              \n",
       "0000997932d777bf             0        0       0       0              0     264  \n",
       "000103f0d9cfb60f             0        0       0       0              0     112  \n",
       "000113f07ec002fd             0        0       0       0              0     233  \n",
       "0001b41b1c6bb37e             0        0       0       0              0     622  \n",
       "0001d958c54c6e35             0        0       0       0              0      67  \n",
       "...                        ...      ...     ...     ...            ...     ...  \n",
       "ffe987279560d7ff             0        0       0       0              0     295  \n",
       "ffea4adeee384e90             0        0       0       0              0      99  \n",
       "ffee36eab5c267c9             0        0       0       0              0      81  \n",
       "fff125370e4aaaf3             0        0       0       0              0     116  \n",
       "fff46fc426af1f9a             0        0       0       0              0     189  \n",
       "\n",
       "[159571 rows x 8 columns]"
      ]
     },
     "execution_count": 82,
     "metadata": {},
     "output_type": "execute_result"
    }
   ],
   "source": [
    "treino_"
   ]
  },
  {
   "cell_type": "code",
   "execution_count": 126,
   "metadata": {
    "ExecuteTime": {
     "end_time": "2020-01-24T00:14:42.192701Z",
     "start_time": "2020-01-24T00:14:42.004134Z"
    }
   },
   "outputs": [
    {
     "data": {
      "text/html": [
       "<div>\n",
       "<style scoped>\n",
       "    .dataframe tbody tr th:only-of-type {\n",
       "        vertical-align: middle;\n",
       "    }\n",
       "\n",
       "    .dataframe tbody tr th {\n",
       "        vertical-align: top;\n",
       "    }\n",
       "\n",
       "    .dataframe thead th {\n",
       "        text-align: right;\n",
       "    }\n",
       "</style>\n",
       "<table border=\"1\" class=\"dataframe\">\n",
       "  <thead>\n",
       "    <tr style=\"text-align: right;\">\n",
       "      <th></th>\n",
       "      <th>Length</th>\n",
       "      <th>variable</th>\n",
       "      <th>value</th>\n",
       "    </tr>\n",
       "    <tr>\n",
       "      <th>id</th>\n",
       "      <th></th>\n",
       "      <th></th>\n",
       "      <th></th>\n",
       "    </tr>\n",
       "  </thead>\n",
       "  <tbody>\n",
       "    <tr>\n",
       "      <th>234798878e1e4d51</th>\n",
       "      <td>118</td>\n",
       "      <td>identity_hate</td>\n",
       "      <td>0</td>\n",
       "    </tr>\n",
       "    <tr>\n",
       "      <th>4b5f334986f6f0de</th>\n",
       "      <td>252</td>\n",
       "      <td>obscene</td>\n",
       "      <td>0</td>\n",
       "    </tr>\n",
       "    <tr>\n",
       "      <th>fbe2da25753f767b</th>\n",
       "      <td>415</td>\n",
       "      <td>severe_toxic</td>\n",
       "      <td>0</td>\n",
       "    </tr>\n",
       "    <tr>\n",
       "      <th>455794ccaf8f0d91</th>\n",
       "      <td>65</td>\n",
       "      <td>severe_toxic</td>\n",
       "      <td>0</td>\n",
       "    </tr>\n",
       "    <tr>\n",
       "      <th>8a486119db80777f</th>\n",
       "      <td>155</td>\n",
       "      <td>toxic</td>\n",
       "      <td>0</td>\n",
       "    </tr>\n",
       "    <tr>\n",
       "      <th>aff4a4ada6795dd2</th>\n",
       "      <td>164</td>\n",
       "      <td>insult</td>\n",
       "      <td>0</td>\n",
       "    </tr>\n",
       "    <tr>\n",
       "      <th>9c834aa56918d8cb</th>\n",
       "      <td>132</td>\n",
       "      <td>toxic</td>\n",
       "      <td>0</td>\n",
       "    </tr>\n",
       "    <tr>\n",
       "      <th>68ab76d02206a66d</th>\n",
       "      <td>507</td>\n",
       "      <td>threat</td>\n",
       "      <td>0</td>\n",
       "    </tr>\n",
       "    <tr>\n",
       "      <th>47e4d824cd99b695</th>\n",
       "      <td>60</td>\n",
       "      <td>threat</td>\n",
       "      <td>0</td>\n",
       "    </tr>\n",
       "    <tr>\n",
       "      <th>70f5aca607469917</th>\n",
       "      <td>192</td>\n",
       "      <td>toxic</td>\n",
       "      <td>0</td>\n",
       "    </tr>\n",
       "  </tbody>\n",
       "</table>\n",
       "</div>"
      ],
      "text/plain": [
       "                  Length       variable  value\n",
       "id                                            \n",
       "234798878e1e4d51     118  identity_hate      0\n",
       "4b5f334986f6f0de     252        obscene      0\n",
       "fbe2da25753f767b     415   severe_toxic      0\n",
       "455794ccaf8f0d91      65   severe_toxic      0\n",
       "8a486119db80777f     155          toxic      0\n",
       "aff4a4ada6795dd2     164         insult      0\n",
       "9c834aa56918d8cb     132          toxic      0\n",
       "68ab76d02206a66d     507         threat      0\n",
       "47e4d824cd99b695      60         threat      0\n",
       "70f5aca607469917     192          toxic      0"
      ]
     },
     "execution_count": 126,
     "metadata": {},
     "output_type": "execute_result"
    }
   ],
   "source": [
    "melt_df = pd.melt(treino_.reset_index(),id_vars=['id','Length'],value_vars=labels).set_index('id')\n",
    "melt_df.sample(10)"
   ]
  },
  {
   "cell_type": "code",
   "execution_count": 124,
   "metadata": {
    "ExecuteTime": {
     "end_time": "2020-01-24T00:13:54.937816Z",
     "start_time": "2020-01-24T00:13:53.798359Z"
    }
   },
   "outputs": [
    {
     "data": {
      "text/plain": [
       "<matplotlib.axes._subplots.AxesSubplot at 0x7f88b1f7de80>"
      ]
     },
     "execution_count": 124,
     "metadata": {},
     "output_type": "execute_result"
    },
    {
     "data": {
      "image/png": "[encoded data removed]",
      "text/plain": [
       "<Figure size 720x576 with 1 Axes>"
      ]
     },
     "metadata": {
      "needs_background": "light"
     },
     "output_type": "display_data"
    }
   ],
   "source": [
    "plt.figure(figsize=(10,8))\n",
    "sns.boxplot(x='variable',y='Length',hue='value',orient='vertical',data=melt_df)"
   ]
  },
  {
   "cell_type": "code",
   "execution_count": null,
   "metadata": {},
   "outputs": [],
   "source": []
  },
  {
   "cell_type": "code",
   "execution_count": 23,
   "metadata": {
    "ExecuteTime": {
     "end_time": "2020-01-23T23:45:15.040707Z",
     "start_time": "2020-01-23T23:45:15.028757Z"
    },
    "scrolled": true
   },
   "outputs": [
    {
     "data": {
      "text/plain": [
       "id\n",
       "0b2055f13934a41e    3\n",
       "1091689382892a88    3\n",
       "171ebb2b785f72bd    1\n",
       "199912b2d9973a21    4\n",
       "1c7b06718dcc3b86    3\n",
       "222aad8a931bcfdf    2\n",
       "2be09ad5ce9a8a85    0\n",
       "300b0c81ea94e02d    0\n",
       "3b0e1b13380cdd7a    5\n",
       "44096c9bd35a200d    0\n",
       "47d24c7955d1cc09    4\n",
       "4c7963eaf9697d35    3\n",
       "5bed308adc44efcf    4\n",
       "5e50cf56f160bda3    0\n",
       "70368dd072aebb42    1\n",
       "7b6b88051eb69303    1\n",
       "7c7a4bf4c84fe002    1\n",
       "7f79fd5eacbe804c    0\n",
       "8ecc71e2dd4e2fbe    4\n",
       "95d211c0f481df03    4\n",
       "96cac8dd8f971c7d    3\n",
       "97e695cfd71944ed    4\n",
       "98e4e1f70d28631c    5\n",
       "a99aff4a8428dfb2    4\n",
       "bcc6a4fc5f123163    0\n",
       "c14532e93d456260    1\n",
       "c7f72686bf613e4e    0\n",
       "c91d629c6599bb23    0\n",
       "cbeeca0dd8d32c1a    4\n",
       "dd0bd64b02c550af    1\n",
       "e6abb7915c7fd1f1    3\n",
       "e77118621b13b43f    0\n",
       "fb3a15d68a7e7ff2    1\n",
       "02dd3c9a9129c83e    2\n",
       "8b31f2d7d6025482    2\n",
       "94f8578325d529ad    4\n",
       "b0b8f1eaa83616fe    3\n",
       "c0e076f0011acaa6    4\n",
       "c8f01ac90c4adc27    4\n",
       "c7e2a95e8146e108    1\n",
       "ce2d7821188dd30f    5\n",
       "f6883b0b85b0dbd7    0\n",
       "dtype: int64"
      ]
     },
     "execution_count": 23,
     "metadata": {},
     "output_type": "execute_result"
    }
   ],
   "source": [
    "treino_[treino_.Length == treino_.Length.max()]['comment_text'].to_frame().join(ytrain).sum(axis=1)"
   ]
  },
  {
   "cell_type": "markdown",
   "metadata": {
    "ExecuteTime": {
     "end_time": "2020-01-23T23:43:16.058935Z",
     "start_time": "2020-01-23T23:43:16.054319Z"
    }
   },
   "source": [
    "straight away we can see that most of the max-size comments are labeled positively for at least one label and is not unusual to be in multiple ones.\n",
    "\n"
   ]
  },
  {
   "cell_type": "code",
   "execution_count": null,
   "metadata": {
    "ExecuteTime": {
     "end_time": "2020-01-23T23:43:16.061166Z",
     "start_time": "2020-01-23T23:43:10.456Z"
    }
   },
   "outputs": [],
   "source": [
    "import numpy as np\n",
    "import scipy.stats as ss\n",
    "import seaborn as sns\n",
    "\n",
    "def cramers_v(x, y):\n",
    "    confusion_matrix = pd.crosstab(x,y)\n",
    "    chi2 = ss.chi2_contingency(confusion_matrix)[0]\n",
    "    n = confusion_matrix.sum().sum()\n",
    "    phi2 = chi2/n\n",
    "    r,k = confusion_matrix.shape\n",
    "    phi2corr = max(0, phi2-((k-1)*(r-1))/(n-1))\n",
    "    rcorr = r-((r-1)**2)/(n-1)\n",
    "    kcorr = k-((k-1)**2)/(n-1)\n",
    "    return np.sqrt(phi2corr/min((kcorr-1),(rcorr-1)))\n",
    "\n",
    "for col in range(len(y.columns)):\n",
    "    #print(f'confusion matrix of label {ytest.columns[col]} :\\n {confusion_matrix(ytest.iloc[:,col],predictions.iloc[:,col])}')\n",
    "    for d in range(len(y.columns)):\n",
    "        if ((col != d) & (cramers_v(y.iloc[:,col],y.iloc[:,d]) > 0.5)): #here we can set a .3 threshold\n",
    "            print(f'Cramer\\'s V entre {y.columns[col]} e {y.columns[d]} : {cramers_v(y.iloc[:,col],y.iloc[:,d])}')"
   ]
  },
  {
   "cell_type": "markdown",
   "metadata": {},
   "source": [
    "# Now let's dive a bit into text analysis..."
   ]
  },
  {
   "cell_type": "code",
   "execution_count": null,
   "metadata": {},
   "outputs": [],
   "source": []
  }
 ],
 "metadata": {
  "kernelspec": {
   "display_name": "Python 3",
   "language": "python",
   "name": "python3"
  },
  "language_info": {
   "codemirror_mode": {
    "name": "ipython",
    "version": 3
   },
   "file_extension": ".py",
   "mimetype": "text/x-python",
   "name": "python",
   "nbconvert_exporter": "python",
   "pygments_lexer": "ipython3",
   "version": "3.6.8"
  }
 },
 "nbformat": 4,
 "nbformat_minor": 2
}
