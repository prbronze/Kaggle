{
 "cells": [
  {
   "cell_type": "code",
   "execution_count": 1,
   "metadata": {
    "ExecuteTime": {
     "end_time": "2020-03-29T12:47:03.948489Z",
     "start_time": "2020-03-29T12:47:02.901977Z"
    }
   },
   "outputs": [],
   "source": [
    "import numpy as np\n",
    "import pandas as pd\n",
    "import re\n",
    "\n",
    "from sklearn.feature_extraction.text import TfidfVectorizer\n",
    "from sklearn.model_selection import train_test_split, cross_val_score\n",
    "from sklearn.metrics import   roc_auc_score,multilabel_confusion_matrix\n",
    "from sklearn.pipeline import Pipeline\n",
    "from sklearn.linear_model import LogisticRegression\n",
    "from sklearn.multiclass import OneVsRestClassifier\n",
    "\n",
    "import warnings\n",
    "warnings.filterwarnings('ignore')\n",
    "\n",
    "import nltk\n",
    "from nltk.corpus import stopwords"
   ]
  },
  {
   "cell_type": "code",
   "execution_count": 2,
   "metadata": {
    "ExecuteTime": {
     "end_time": "2020-03-29T12:47:10.324288Z",
     "start_time": "2020-03-29T12:47:10.307815Z"
    },
    "code_folding": []
   },
   "outputs": [],
   "source": [
    "# Word Vectorizer\n",
    "vect = TfidfVectorizer(lowercase = True,ngram_range = (1,1),\n",
    "                       use_idf = True,sublinear_tf = True,\n",
    "                       stop_words='english',max_features=10000)"
   ]
  },
  {
   "cell_type": "code",
   "execution_count": 3,
   "metadata": {
    "ExecuteTime": {
     "end_time": "2020-03-29T12:47:13.643286Z",
     "start_time": "2020-03-29T12:47:12.180137Z"
    }
   },
   "outputs": [],
   "source": [
    "Xtrain = pd.read_csv('../.data/train_new_features.csv',index_col='id')\n",
    "Xtest = pd.read_csv('../.data/test_new_features.csv',index_col='id')\n",
    "\n",
    "Xtr = Xtrain[['comment_text']]\n",
    "ytr = Xtrain[['toxic', 'severe_toxic', 'obscene', 'threat', 'insult','identity_hate']]\n",
    "\n",
    "Xts = Xtest[['comment_text']]"
   ]
  },
  {
   "cell_type": "code",
   "execution_count": 4,
   "metadata": {
    "ExecuteTime": {
     "end_time": "2020-03-29T12:47:14.462837Z",
     "start_time": "2020-03-29T12:47:14.406255Z"
    }
   },
   "outputs": [
    {
     "name": "stdout",
     "output_type": "stream",
     "text": [
      "(127656, 1)\n"
     ]
    }
   ],
   "source": [
    "xtrain, xtest, ytrain, ytest = train_test_split(\n",
    "    Xtr,ytr,test_size=0.20)\n",
    "print(xtrain.shape)"
   ]
  },
  {
   "cell_type": "markdown",
   "metadata": {},
   "source": [
    "## For now we want to have a glance at a baseline model, so we are not using nothing besides the comment_text with TF-IDF and a Logistic Regression with no tunning"
   ]
  },
  {
   "cell_type": "code",
   "execution_count": 5,
   "metadata": {
    "ExecuteTime": {
     "end_time": "2020-03-29T12:47:31.649441Z",
     "start_time": "2020-03-29T12:47:31.617531Z"
    }
   },
   "outputs": [
    {
     "name": "stdout",
     "output_type": "stream",
     "text": [
      "    toxic  severe_toxic  obscene  threat  insult  identity_hate\n",
      "0  115458        126389   120909  127275  121384         126544\n",
      "1   12198          1267     6747     381    6272           1112\n",
      "   toxic  severe_toxic  obscene  threat  insult  identity_hate\n",
      "0  28819         31587    30213   31818   30310          31622\n",
      "1   3096           328     1702      97    1605            293\n"
     ]
    }
   ],
   "source": [
    "print(ytrain.apply(pd.value_counts))\n",
    "print(ytest.apply(pd.value_counts))"
   ]
  },
  {
   "cell_type": "code",
   "execution_count": 6,
   "metadata": {
    "ExecuteTime": {
     "end_time": "2020-03-29T12:47:32.371433Z",
     "start_time": "2020-03-29T12:47:32.365082Z"
    }
   },
   "outputs": [],
   "source": [
    "from sklearn.linear_model import LogisticRegressionCV \n",
    "clf = OneVsRestClassifier(LogisticRegression(multi_class=\"multinomial\"))\n",
    "\n",
    "modelo = Pipeline([('vetorizador',vect),\n",
    "                   ('classificador',clf)\n",
    "                  ])"
   ]
  },
  {
   "cell_type": "code",
   "execution_count": 7,
   "metadata": {
    "ExecuteTime": {
     "end_time": "2020-03-29T12:49:13.510266Z",
     "start_time": "2020-03-29T12:47:34.389289Z"
    }
   },
   "outputs": [],
   "source": [
    "modelo.fit(xtrain.comment_text,ytrain);"
   ]
  },
  {
   "cell_type": "code",
   "execution_count": 8,
   "metadata": {
    "ExecuteTime": {
     "end_time": "2020-03-29T12:49:14.662370Z",
     "start_time": "2020-03-29T12:49:13.512879Z"
    },
    "scrolled": true
   },
   "outputs": [
    {
     "data": {
      "text/plain": [
       "0.9771638893839931"
      ]
     },
     "execution_count": 8,
     "metadata": {},
     "output_type": "execute_result"
    }
   ],
   "source": [
    "ypred = np.array(modelo.predict_proba(xtest.comment_text))\n",
    "\n",
    "roc_auc_score(ytest,ypred,average='macro')"
   ]
  },
  {
   "cell_type": "code",
   "execution_count": 32,
   "metadata": {
    "ExecuteTime": {
     "end_time": "2020-03-29T13:28:13.132827Z",
     "start_time": "2020-03-29T13:28:06.361741Z"
    }
   },
   "outputs": [
    {
     "data": {
      "text/plain": [
       "(153164, 6)"
      ]
     },
     "execution_count": 32,
     "metadata": {},
     "output_type": "execute_result"
    }
   ],
   "source": [
    "y_pred_sub = np.array(modelo.predict_proba(Xts.comment_text))\n",
    "y_pred_sub.shape"
   ]
  },
  {
   "cell_type": "markdown",
   "metadata": {},
   "source": [
    "# submiting"
   ]
  },
  {
   "cell_type": "code",
   "execution_count": 21,
   "metadata": {
    "ExecuteTime": {
     "end_time": "2020-03-29T12:59:09.809539Z",
     "start_time": "2020-03-29T12:59:09.709748Z"
    }
   },
   "outputs": [],
   "source": [
    "submission_file = pd.read_csv( '../.data/sample_submission.csv')"
   ]
  },
  {
   "cell_type": "code",
   "execution_count": 23,
   "metadata": {
    "ExecuteTime": {
     "end_time": "2020-03-29T12:59:42.465988Z",
     "start_time": "2020-03-29T12:59:42.348837Z"
    }
   },
   "outputs": [],
   "source": [
    "submission_file.iloc[:,1:] = y_pred_sub"
   ]
  },
  {
   "cell_type": "code",
   "execution_count": 31,
   "metadata": {
    "ExecuteTime": {
     "end_time": "2020-03-29T13:27:54.996402Z",
     "start_time": "2020-03-29T13:27:54.974118Z"
    }
   },
   "outputs": [
    {
     "data": {
      "text/html": [
       "<div>\n",
       "<style scoped>\n",
       "    .dataframe tbody tr th:only-of-type {\n",
       "        vertical-align: middle;\n",
       "    }\n",
       "\n",
       "    .dataframe tbody tr th {\n",
       "        vertical-align: top;\n",
       "    }\n",
       "\n",
       "    .dataframe thead th {\n",
       "        text-align: right;\n",
       "    }\n",
       "</style>\n",
       "<table border=\"1\" class=\"dataframe\">\n",
       "  <thead>\n",
       "    <tr style=\"text-align: right;\">\n",
       "      <th></th>\n",
       "      <th>id</th>\n",
       "      <th>toxic</th>\n",
       "      <th>severe_toxic</th>\n",
       "      <th>obscene</th>\n",
       "      <th>threat</th>\n",
       "      <th>insult</th>\n",
       "      <th>identity_hate</th>\n",
       "    </tr>\n",
       "  </thead>\n",
       "  <tbody>\n",
       "    <tr>\n",
       "      <th>0</th>\n",
       "      <td>00001cee341fdb12</td>\n",
       "      <td>0.998929</td>\n",
       "      <td>0.239878</td>\n",
       "      <td>0.998264</td>\n",
       "      <td>0.036925</td>\n",
       "      <td>0.939904</td>\n",
       "      <td>0.294670</td>\n",
       "    </tr>\n",
       "    <tr>\n",
       "      <th>1</th>\n",
       "      <td>0000247867823ef7</td>\n",
       "      <td>0.006549</td>\n",
       "      <td>0.002097</td>\n",
       "      <td>0.003238</td>\n",
       "      <td>0.001520</td>\n",
       "      <td>0.006079</td>\n",
       "      <td>0.002413</td>\n",
       "    </tr>\n",
       "    <tr>\n",
       "      <th>2</th>\n",
       "      <td>00013b17ad220c46</td>\n",
       "      <td>0.009531</td>\n",
       "      <td>0.001093</td>\n",
       "      <td>0.004561</td>\n",
       "      <td>0.000510</td>\n",
       "      <td>0.009164</td>\n",
       "      <td>0.001566</td>\n",
       "    </tr>\n",
       "    <tr>\n",
       "      <th>3</th>\n",
       "      <td>00017563c3f7919a</td>\n",
       "      <td>0.002203</td>\n",
       "      <td>0.001748</td>\n",
       "      <td>0.002639</td>\n",
       "      <td>0.000732</td>\n",
       "      <td>0.002366</td>\n",
       "      <td>0.000515</td>\n",
       "    </tr>\n",
       "    <tr>\n",
       "      <th>4</th>\n",
       "      <td>00017695ad8997eb</td>\n",
       "      <td>0.027388</td>\n",
       "      <td>0.002633</td>\n",
       "      <td>0.005453</td>\n",
       "      <td>0.001517</td>\n",
       "      <td>0.009465</td>\n",
       "      <td>0.002340</td>\n",
       "    </tr>\n",
       "  </tbody>\n",
       "</table>\n",
       "</div>"
      ],
      "text/plain": [
       "                 id     toxic  severe_toxic   obscene    threat    insult  \\\n",
       "0  00001cee341fdb12  0.998929      0.239878  0.998264  0.036925  0.939904   \n",
       "1  0000247867823ef7  0.006549      0.002097  0.003238  0.001520  0.006079   \n",
       "2  00013b17ad220c46  0.009531      0.001093  0.004561  0.000510  0.009164   \n",
       "3  00017563c3f7919a  0.002203      0.001748  0.002639  0.000732  0.002366   \n",
       "4  00017695ad8997eb  0.027388      0.002633  0.005453  0.001517  0.009465   \n",
       "\n",
       "   identity_hate  \n",
       "0       0.294670  \n",
       "1       0.002413  \n",
       "2       0.001566  \n",
       "3       0.000515  \n",
       "4       0.002340  "
      ]
     },
     "execution_count": 31,
     "metadata": {},
     "output_type": "execute_result"
    }
   ],
   "source": [
    "submission_file.head()"
   ]
  },
  {
   "cell_type": "code",
   "execution_count": 29,
   "metadata": {
    "ExecuteTime": {
     "end_time": "2020-03-29T13:21:24.425439Z",
     "start_time": "2020-03-29T13:21:23.160363Z"
    }
   },
   "outputs": [],
   "source": [
    "submission_file.to_csv('../.data/submission.csv', index=False,header=True)"
   ]
  },
  {
   "cell_type": "markdown",
   "metadata": {},
   "source": [
    "### Score in our test set : 0.97716\n",
    "### Score in Kaggle Public Leaderboard: 0.97340"
   ]
  },
  {
   "cell_type": "markdown",
   "metadata": {},
   "source": [
    "---------------------------"
   ]
  },
  {
   "cell_type": "markdown",
   "metadata": {},
   "source": [
    "### Confusion metrix per label"
   ]
  },
  {
   "cell_type": "code",
   "execution_count": 40,
   "metadata": {
    "ExecuteTime": {
     "end_time": "2020-03-29T13:31:34.163494Z",
     "start_time": "2020-03-29T13:31:32.579309Z"
    }
   },
   "outputs": [
    {
     "data": {
      "text/plain": [
       "array([[[28620,   199],\n",
       "        [ 1071,  2025]],\n",
       "\n",
       "       [[31509,    78],\n",
       "        [  244,    84]],\n",
       "\n",
       "       [[30057,   156],\n",
       "        [  545,  1157]],\n",
       "\n",
       "       [[31811,     7],\n",
       "        [   76,    21]],\n",
       "\n",
       "       [[30101,   209],\n",
       "        [  699,   906]],\n",
       "\n",
       "       [[31596,    26],\n",
       "        [  229,    64]]])"
      ]
     },
     "execution_count": 40,
     "metadata": {},
     "output_type": "execute_result"
    }
   ],
   "source": [
    "ypred_class = np.array(\n",
    "    modelo.predict(xtest.comment_text)\n",
    ")\n",
    "multilabel_confusion_matrix(ytest,ypred_class)"
   ]
  },
  {
   "cell_type": "code",
   "execution_count": null,
   "metadata": {},
   "outputs": [],
   "source": []
  }
 ],
 "metadata": {
  "kernelspec": {
   "display_name": "Python 3",
   "language": "python",
   "name": "python3"
  },
  "language_info": {
   "codemirror_mode": {
    "name": "ipython",
    "version": 3
   },
   "file_extension": ".py",
   "mimetype": "text/x-python",
   "name": "python",
   "nbconvert_exporter": "python",
   "pygments_lexer": "ipython3",
   "version": "3.6.8"
  }
 },
 "nbformat": 4,
 "nbformat_minor": 2
}
