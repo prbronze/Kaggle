{
 "cells": [
  {
   "cell_type": "code",
   "execution_count": 1,
   "metadata": {
    "ExecuteTime": {
     "end_time": "2020-07-13T23:12:54.650322Z",
     "start_time": "2020-07-13T23:12:52.358218Z"
    }
   },
   "outputs": [],
   "source": [
    "import numpy as np\n",
    "import pandas as pd\n",
    "import re\n",
    "import time\n",
    "\n",
    "from sklearn.feature_extraction.text import TfidfVectorizer\n",
    "from sklearn.model_selection import train_test_split, cross_val_score,GridSearchCV,StratifiedShuffleSplit\n",
    "from sklearn.metrics import   roc_auc_score,multilabel_confusion_matrix\n",
    "from sklearn.pipeline import Pipeline,FeatureUnion\n",
    "from sklearn.linear_model import LogisticRegression,LogisticRegressionCV\n",
    "from sklearn.feature_selection import SelectKBest,mutual_info_classif,f_classif\n",
    "    \n",
    "import warnings\n",
    "warnings.filterwarnings('ignore')\n",
    "\n",
    "import nltk\n",
    "from nltk.corpus import stopwords\n",
    "\n",
    "submission_file = pd.read_csv( '../.data/sample_submission.csv')\n",
    "\n",
    "Xtrain = pd.read_csv('../.data/train_new_features.csv',index_col='id')\n",
    "Xtest = pd.read_csv('../.data/test_new_features.csv',index_col='id')\n",
    "\n",
    "Xtr = Xtrain[['comment_text']]\n",
    "ytr = Xtrain[['toxic', 'severe_toxic', 'obscene', 'threat', 'insult','identity_hate']]\n",
    "\n",
    "Xts = Xtest[['comment_text']]"
   ]
  },
  {
   "cell_type": "markdown",
   "metadata": {},
   "source": [
    "#### For now we want to have a glance at a baseline model, so we are not using nothing besides the comment_text with TF-IDF and a Logistic Regression with no tunning\n",
    "\n",
    "- Not using the features created in 'EDA.ipynb'"
   ]
  },
  {
   "cell_type": "code",
   "execution_count": null,
   "metadata": {
    "ExecuteTime": {
     "end_time": "2020-07-13T23:40:22.177779Z",
     "start_time": "2020-07-13T23:39:32.102169Z"
    }
   },
   "outputs": [],
   "source": [
    "word_vectorizer = TfidfVectorizer(\n",
    "    sublinear_tf=True,\n",
    "    use_idf=True,\n",
    "    strip_accents='unicode',\n",
    "    stop_words='english',\n",
    "    min_df=30,\n",
    "    ngram_range=(1, 1),\n",
    "    max_features=10000)\n",
    "\n",
    "feature_extractor = word_vectorizer\n",
    "\n",
    "start = time.time()\n",
    "print('extracting fetures')\n",
    "train_features = feature_extractor.fit_transform(Xtr.comment_text)\n",
    "test_features = feature_extractor.transform(Xts.comment_text)\n",
    "print('fitted features time (seconds) : ',time.time() - start)\n",
    "\n",
    "clf = LogisticRegression(class_weight=None) #'balanced'\n",
    "score_df = pd.DataFrame(columns=ytr.columns)\n",
    "scores = []\n",
    "for col in ytr.columns:\n",
    "    start2 = time.time()\n",
    "    cv_score = np.mean(cross_val_score(clf,\n",
    "                                       train_features,\n",
    "                                       ytr[col],\n",
    "                                       cv=3,\n",
    "                                       scoring='roc_auc'))\n",
    "    scores.append(cv_score)\n",
    "    print('CV score for label {} is {}'.format(col, cv_score))\n",
    "\n",
    "score_df = score_df.append(dict(zip(ytr.columns,scores)), ignore_index = True)"
   ]
  },
  {
   "cell_type": "code",
   "execution_count": 70,
   "metadata": {
    "ExecuteTime": {
     "end_time": "2020-07-14T00:10:46.731329Z",
     "start_time": "2020-07-14T00:10:46.720371Z"
    }
   },
   "outputs": [
    {
     "data": {
      "text/html": [
       "<div>\n",
       "<style scoped>\n",
       "    .dataframe tbody tr th:only-of-type {\n",
       "        vertical-align: middle;\n",
       "    }\n",
       "\n",
       "    .dataframe tbody tr th {\n",
       "        vertical-align: top;\n",
       "    }\n",
       "\n",
       "    .dataframe thead th {\n",
       "        text-align: right;\n",
       "    }\n",
       "</style>\n",
       "<table border=\"1\" class=\"dataframe\">\n",
       "  <thead>\n",
       "    <tr style=\"text-align: right;\">\n",
       "      <th></th>\n",
       "      <th>toxic</th>\n",
       "      <th>severe_toxic</th>\n",
       "      <th>obscene</th>\n",
       "      <th>threat</th>\n",
       "      <th>insult</th>\n",
       "      <th>identity_hate</th>\n",
       "    </tr>\n",
       "  </thead>\n",
       "  <tbody>\n",
       "    <tr>\n",
       "      <th>0</th>\n",
       "      <td>0.967367</td>\n",
       "      <td>0.985034</td>\n",
       "      <td>0.983077</td>\n",
       "      <td>0.982492</td>\n",
       "      <td>0.974352</td>\n",
       "      <td>0.973137</td>\n",
       "    </tr>\n",
       "  </tbody>\n",
       "</table>\n",
       "</div>"
      ],
      "text/plain": [
       "      toxic  severe_toxic   obscene    threat    insult  identity_hate\n",
       "0  0.967367      0.985034  0.983077  0.982492  0.974352       0.973137"
      ]
     },
     "execution_count": 70,
     "metadata": {},
     "output_type": "execute_result"
    }
   ],
   "source": [
    "score_df"
   ]
  }
 ],
 "metadata": {
  "kernelspec": {
   "display_name": "Python 3",
   "language": "python",
   "name": "python3"
  },
  "language_info": {
   "codemirror_mode": {
    "name": "ipython",
    "version": 3
   },
   "file_extension": ".py",
   "mimetype": "text/x-python",
   "name": "python",
   "nbconvert_exporter": "python",
   "pygments_lexer": "ipython3",
   "version": "3.8.2"
  },
  "varInspector": {
   "cols": {
    "lenName": 16,
    "lenType": 16,
    "lenVar": "41"
   },
   "kernels_config": {
    "python": {
     "delete_cmd_postfix": "",
     "delete_cmd_prefix": "del ",
     "library": "var_list.py",
     "varRefreshCmd": "print(var_dic_list())"
    },
    "r": {
     "delete_cmd_postfix": ") ",
     "delete_cmd_prefix": "rm(",
     "library": "var_list.r",
     "varRefreshCmd": "cat(var_dic_list()) "
    }
   },
   "types_to_exclude": [
    "module",
    "function",
    "builtin_function_or_method",
    "instance",
    "_Feature"
   ],
   "window_display": false
  }
 },
 "nbformat": 4,
 "nbformat_minor": 2
}
