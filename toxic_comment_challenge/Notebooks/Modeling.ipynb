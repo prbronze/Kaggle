{
 "cells": [
  {
   "cell_type": "code",
   "execution_count": 1,
   "metadata": {
    "ExecuteTime": {
     "end_time": "2020-08-18T01:04:16.168866Z",
     "start_time": "2020-08-18T01:04:15.502114Z"
    }
   },
   "outputs": [],
   "source": [
    "import numpy as np\n",
    "import pandas as pd\n",
    "import re\n",
    "import time\n",
    "\n",
    "from sklearn.feature_extraction.text import TfidfVectorizer\n",
    "from sklearn.model_selection import train_test_split, cross_val_score,GridSearchCV,StratifiedShuffleSplit\n",
    "from sklearn.metrics import   roc_auc_score,multilabel_confusion_matrix\n",
    "from sklearn.pipeline import Pipeline,FeatureUnion\n",
    "from sklearn.linear_model import LogisticRegression,LogisticRegressionCV\n",
    "from sklearn.feature_selection import SelectKBest,mutual_info_classif,f_classif\n",
    "    \n",
    "import warnings\n",
    "warnings.filterwarnings('ignore')\n",
    "\n",
    "import nltk\n",
    "from nltk.corpus import stopwords\n",
    "\n",
    "submission_file = pd.read_csv( '../.data/sample_submission.csv')"
   ]
  },
  {
   "cell_type": "markdown",
   "metadata": {},
   "source": [
    "#### For now we want to have a glance at a baseline model, so we are not using nothing besides the comment_text with TF-IDF and a Logistic Regression with no tunning\n",
    "\n",
    "- Not using the features created in 'EDA.ipynb'"
   ]
  },
  {
   "cell_type": "code",
   "execution_count": 3,
   "metadata": {
    "ExecuteTime": {
     "end_time": "2020-08-18T01:04:22.942960Z",
     "start_time": "2020-08-18T01:04:16.172758Z"
    },
    "code_folding": [
     0,
     6
    ]
   },
   "outputs": [
    {
     "name": "stdout",
     "output_type": "stream",
     "text": [
      "Extracting fetures...\n",
      "Time elapsed: 6.094881296157837 seconds. \n"
     ]
    }
   ],
   "source": [
    "def import_train_data():\n",
    "    Xtrain = pd.read_csv('../.data/train_new_features.csv',index_col='id')\n",
    "    Xtr = Xtrain[['comment_text']]\n",
    "    ytr = Xtrain[['toxic', 'severe_toxic', 'obscene', 'threat', 'insult','identity_hate']]   \n",
    "    return Xtr,ytr\n",
    "\n",
    "def feature_extraction(Xtr):\n",
    "    word_vectorizer = TfidfVectorizer(\n",
    "        sublinear_tf=True,\n",
    "        use_idf=True,\n",
    "        strip_accents='unicode',\n",
    "        stop_words='english',\n",
    "        min_df=20,\n",
    "        ngram_range=(1, 1),\n",
    "        max_features=10000)\n",
    "    \n",
    "    \n",
    "    start = time.time()\n",
    "    print('Extracting fetures...')\n",
    "    train_features = word_vectorizer.fit_transform(Xtr['comment_text'])\n",
    "    print(f'Time elapsed: {time.time() - start} seconds. ')\n",
    "    param = word_vectorizer.get_params()\n",
    "    return train_features,param\n",
    "\n",
    "def train_model(Xtr,ytr,df_results,param_extractor):\n",
    "    \n",
    "    clf = LogisticRegression(class_weight=None) #'balanced'\n",
    "    param_classifier = clf.get_params()\n",
    "    score_df = pd.DataFrame(columns=ytr.columns)\n",
    "    scores = []\n",
    "    \n",
    "    for col in ytr.columns:\n",
    "        cv_score = np.round(np.mean(cross_val_score(clf,\n",
    "                                           Xtr,\n",
    "                                           ytr[col],\n",
    "                                           cv=3,\n",
    "                                           scoring='roc_auc')),4)\n",
    "        scores.append(cv_score)\n",
    "        print(f'CV score for label {col} is {cv_score}.')\n",
    "        \n",
    "    scores.append(param_extractor)\n",
    "    scores.append(param_classifier)\n",
    "    df_results = df_results.append(dict(zip(df_results.columns,scores)), ignore_index = True)\n",
    "    \n",
    "    return df_results\n",
    "\n",
    "\n",
    "x_train, y_train = import_train_data()\n",
    "list_cols = y_train.columns.to_list()\n",
    "list_cols.append('parameters_extraction')\n",
    "list_cols.append('parameters_classifier')\n",
    "score_df = pd.DataFrame(columns=list_cols)\n",
    "x_train_transformed,parameters_feat_ext = feature_extraction(x_train)"
   ]
  },
  {
   "cell_type": "code",
   "execution_count": 4,
   "metadata": {
    "ExecuteTime": {
     "end_time": "2020-08-18T01:04:56.921346Z",
     "start_time": "2020-08-18T01:04:22.944613Z"
    }
   },
   "outputs": [
    {
     "name": "stdout",
     "output_type": "stream",
     "text": [
      "CV score for label toxic is 0.9675.\n",
      "CV score for label severe_toxic is 0.9851.\n",
      "CV score for label obscene is 0.9832.\n",
      "CV score for label threat is 0.9825.\n",
      "CV score for label insult is 0.9744.\n",
      "CV score for label identity_hate is 0.9732.\n"
     ]
    }
   ],
   "source": [
    "score_df = train_model(x_train_transformed,y_train,score_df,parameters_feat_ext)"
   ]
  },
  {
   "cell_type": "code",
   "execution_count": 5,
   "metadata": {
    "ExecuteTime": {
     "end_time": "2020-08-18T01:04:56.948280Z",
     "start_time": "2020-08-18T01:04:56.923312Z"
    }
   },
   "outputs": [
    {
     "data": {
      "text/html": [
       "<div>\n",
       "<style scoped>\n",
       "    .dataframe tbody tr th:only-of-type {\n",
       "        vertical-align: middle;\n",
       "    }\n",
       "\n",
       "    .dataframe tbody tr th {\n",
       "        vertical-align: top;\n",
       "    }\n",
       "\n",
       "    .dataframe thead th {\n",
       "        text-align: right;\n",
       "    }\n",
       "</style>\n",
       "<table border=\"1\" class=\"dataframe\">\n",
       "  <thead>\n",
       "    <tr style=\"text-align: right;\">\n",
       "      <th></th>\n",
       "      <th>toxic</th>\n",
       "      <th>severe_toxic</th>\n",
       "      <th>obscene</th>\n",
       "      <th>threat</th>\n",
       "      <th>insult</th>\n",
       "      <th>identity_hate</th>\n",
       "      <th>parameters_extraction</th>\n",
       "      <th>parameters_classifier</th>\n",
       "    </tr>\n",
       "  </thead>\n",
       "  <tbody>\n",
       "    <tr>\n",
       "      <th>0</th>\n",
       "      <td>0.9675</td>\n",
       "      <td>0.9851</td>\n",
       "      <td>0.9832</td>\n",
       "      <td>0.9825</td>\n",
       "      <td>0.9744</td>\n",
       "      <td>0.9732</td>\n",
       "      <td>{'analyzer': 'word', 'binary': False, 'decode_...</td>\n",
       "      <td>{'C': 1.0, 'class_weight': None, 'dual': False...</td>\n",
       "    </tr>\n",
       "  </tbody>\n",
       "</table>\n",
       "</div>"
      ],
      "text/plain": [
       "    toxic  severe_toxic  obscene  threat  insult  identity_hate  \\\n",
       "0  0.9675        0.9851   0.9832  0.9825  0.9744         0.9732   \n",
       "\n",
       "                               parameters_extraction  \\\n",
       "0  {'analyzer': 'word', 'binary': False, 'decode_...   \n",
       "\n",
       "                               parameters_classifier  \n",
       "0  {'C': 1.0, 'class_weight': None, 'dual': False...  "
      ]
     },
     "execution_count": 5,
     "metadata": {},
     "output_type": "execute_result"
    }
   ],
   "source": [
    "score_df"
   ]
  },
  {
   "cell_type": "code",
   "execution_count": null,
   "metadata": {},
   "outputs": [],
   "source": [
    "# Xtest = pd.read_csv('../.data/test_new_features.csv',index_col='id')\n",
    "# Xts = Xtest[['comment_text']]"
   ]
  }
 ],
 "metadata": {
  "kernelspec": {
   "display_name": "Python 3",
   "language": "python",
   "name": "python3"
  },
  "language_info": {
   "codemirror_mode": {
    "name": "ipython",
    "version": 3
   },
   "file_extension": ".py",
   "mimetype": "text/x-python",
   "name": "python",
   "nbconvert_exporter": "python",
   "pygments_lexer": "ipython3",
   "version": "3.8.2"
  },
  "varInspector": {
   "cols": {
    "lenName": 16,
    "lenType": 16,
    "lenVar": "41"
   },
   "kernels_config": {
    "python": {
     "delete_cmd_postfix": "",
     "delete_cmd_prefix": "del ",
     "library": "var_list.py",
     "varRefreshCmd": "print(var_dic_list())"
    },
    "r": {
     "delete_cmd_postfix": ") ",
     "delete_cmd_prefix": "rm(",
     "library": "var_list.r",
     "varRefreshCmd": "cat(var_dic_list()) "
    }
   },
   "types_to_exclude": [
    "module",
    "function",
    "builtin_function_or_method",
    "instance",
    "_Feature"
   ],
   "window_display": true
  }
 },
 "nbformat": 4,
 "nbformat_minor": 2
}
